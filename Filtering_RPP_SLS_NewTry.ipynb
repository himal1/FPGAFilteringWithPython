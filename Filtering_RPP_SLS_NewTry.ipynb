{
 "cells": [
  {
   "cell_type": "markdown",
   "id": "2e18ce86",
   "metadata": {},
   "source": [
    "## Recursive Piecewise Polynomial Filter with Sliding Least Square Technique   \n",
    "This program uses the recursive algorithm (could be directly implemented in FPGA)"
   ]
  },
  {
   "cell_type": "code",
   "execution_count": 1,
   "id": "0a25a90c",
   "metadata": {},
   "outputs": [],
   "source": [
    "import numpy as np\n",
    "import math\n",
    "import matplotlib.pyplot as plt\n",
    "import random"
   ]
  },
  {
   "cell_type": "markdown",
   "id": "e7c7bd08",
   "metadata": {},
   "source": [
    "Initialize the variables:\n",
    " *** \n",
    "* constant offset is baseline\n",
    "* amp is signal amplitude\n",
    "* noise_amp is amplitude of electronic noise\n",
    "* tau is decay constant of the exponential signal\n",
    "* length is the length of the waveform\n",
    "* rise_time is the time given to DTF to rise\n",
    "* flat_top is the time given to DFT to remain flat at the top and at the bottom"
   ]
  },
  {
   "cell_type": "code",
   "execution_count": 2,
   "id": "65b85bd8",
   "metadata": {},
   "outputs": [],
   "source": [
    "baseline=0.\n",
    "amp=25\n",
    "noise_amp=0.\n",
    "tau=500\n",
    "length=7000\n",
    "rise_time=400\n",
    "flat_top=500"
   ]
  },
  {
   "cell_type": "markdown",
   "id": "44338c40",
   "metadata": {},
   "source": [
    "Lets define a exponential function"
   ]
  },
  {
   "cell_type": "code",
   "execution_count": 3,
   "id": "db43281c",
   "metadata": {},
   "outputs": [],
   "source": [
    "x=np.arange(-3500,3500,1)\n",
    "def expo(amp, x, tau):\n",
    "    y=[0]*len(x)#x*0\n",
    "    for i in range (1, len(x)): \n",
    "        if (x[i] > 0):\n",
    "            y[i] = amp * np.exp(-x[i]/tau)\n",
    "        else:\n",
    "            y[i] = 0\n",
    "    return y"
   ]
  },
  {
   "cell_type": "markdown",
   "id": "51daa057",
   "metadata": {},
   "source": [
    "Lets make a numpy array for the noise and constant offset (named as baseline)"
   ]
  },
  {
   "cell_type": "code",
   "execution_count": 4,
   "id": "65b6d771",
   "metadata": {},
   "outputs": [],
   "source": [
    "N=[0.]*7000\n",
    "N=np.array(N)\n",
    "for i in range (0,7000):\n",
    "    N[i]=random.uniform(-1,1)\n",
    "N=N*noise_amp\n",
    "#now baseline offset\n",
    "baseline_c=[baseline]*7000\n",
    "baseline_c=np.array(baseline_c)\n",
    "A = baseline_c+expo(amp, x, tau)\n",
    "A=np.array(A)\n",
    "#Hence the total signal\n",
    "T=A+N"
   ]
  },
  {
   "cell_type": "markdown",
   "id": "8a0c64b4",
   "metadata": {},
   "source": [
    "Plot of input signal with constant offset and noise"
   ]
  },
  {
   "cell_type": "code",
   "execution_count": 5,
   "id": "a729e868",
   "metadata": {},
   "outputs": [
    {
     "data": {
      "text/plain": [
       "[<matplotlib.lines.Line2D at 0x7fb902108550>]"
      ]
     },
     "execution_count": 5,
     "metadata": {},
     "output_type": "execute_result"
    },
    {
     "data": {
      "image/png": "[encoded data removed]",
      "text/plain": [
       "<Figure size 432x288 with 1 Axes>"
      ]
     },
     "metadata": {
      "needs_background": "light"
     },
     "output_type": "display_data"
    }
   ],
   "source": [
    "plt.plot(T)"
   ]
  },
  {
   "cell_type": "markdown",
   "id": "a88e1ddb",
   "metadata": {},
   "source": [
    "Impulse response"
   ]
  },
  {
   "cell_type": "code",
   "execution_count": 6,
   "id": "adfa2ca3",
   "metadata": {},
   "outputs": [],
   "source": [
    "sig=T\n",
    "sig=np.array(sig)\n",
    "r_0=[0]*7000\n",
    "r_1=[0]*7000\n",
    "r_2=[0]*7000\n",
    "r_3=[0]*7000\n",
    "for i in range (3500, 3601):\n",
    "    if i>2:\n",
    "        r_0[i]=T[i]\n",
    "        r_1[i]=r_1[i-1]+T[i]\n",
    "        r_2[i]=r_2[i-1]+r_1[i]\n",
    "        r_3[i]=r_3[i-1]+r_2[i]"
   ]
  },
  {
   "cell_type": "code",
   "execution_count": null,
   "id": "f93da1cb",
   "metadata": {},
   "outputs": [],
   "source": []
  },
  {
   "cell_type": "markdown",
   "id": "567c15fe",
   "metadata": {},
   "source": []
  },
  {
   "cell_type": "code",
   "execution_count": 17,
   "id": "016b9bd2",
   "metadata": {},
   "outputs": [],
   "source": [
    "v_n=T\n",
    "L=100\n",
    "delay=100\n",
    "v_n=np.array(v_n)\n",
    "r_0_L=[0]*7000\n",
    "r_1_L=[0]*7000\n",
    "r_2_L=[0]*7000\n",
    "r_3_L=[0]*7000\n",
    "\n",
    "A_0_L=[0]*7000\n",
    "A_1_L=[0]*7000\n",
    "A_2_L=[0]*7000\n",
    "A_3_L=[0]*7000\n",
    "A_4_L=[0]*7000\n",
    "A_5_L=[0]*7000\n",
    "A_6_L=[0]*7000\n",
    "A_7_L=[0]*7000\n",
    "\n",
    "r_t=[0]*7000\n",
    "wave_r=[0]*7000\n",
    "wave_c_r=[0]*7000\n",
    "c_0=100\n",
    "for i in range (1, 7000):\n",
    "    if i>100:\n",
    "        #1st one\n",
    "        A_0_L[i]=A_0_L[i-1]+v_n[i] #accumulaor\n",
    "        wave_r[i]=v_n[i]+c_0*A_0_L[i]\n",
    "        wave_c_r[i] = wave_c_r[i-1]+wave_r[i]\n",
    "        \n",
    "        A_1_L[i]=A_1_L[i-1]+A_0_L[i]\n",
    "        A_2_L[i]=A_2_L[i-1]+A_1_L[i-1]\n",
    "        A_3_L[i]=A_3_L[i-1]+A_2_L[i-1]\n",
    "        A_4_L[i]=A_4_L[i-1]+A_3_L[i-1]\n",
    "        A_5_L[i]=A_5_L[i-1]+A_4_L[i-1]\n",
    "        A_6_L[i]=A_6_L[i-1]+A_5_L[i-1]\n",
    "        A_7_L[i]=A_7_L[i-1]+A_6_L[i-1]\n",
    "        \n",
    "        #lets try delays\n",
    "        wave_r[i]=wave_c_r[i]-wave_c_r[i-delay]-wave_c_r[i-2*delay]+wave_c_r[i-3*delay]\n",
    "for i in range(0, length):\n",
    "    wave_r[i] = wave_r[i]/100      \n",
    "        "
   ]
  },
  {
   "cell_type": "code",
   "execution_count": 19,
   "id": "aacbd6b2",
   "metadata": {},
   "outputs": [
    {
     "data": {
      "text/plain": [
       "[<matplotlib.lines.Line2D at 0x7fb8ffad66a0>]"
      ]
     },
     "execution_count": 19,
     "metadata": {},
     "output_type": "execute_result"
    },
    {
     "data": {
      "image/png": "[encoded data removed]",
      "text/plain": [
       "<Figure size 432x288 with 1 Axes>"
      ]
     },
     "metadata": {
      "needs_background": "light"
     },
     "output_type": "display_data"
    }
   ],
   "source": [
    "plt.plot(A_0_L)\n",
    "#plt.plot(v_n)"
   ]
  },
  {
   "cell_type": "raw",
   "id": "f9859639",
   "metadata": {},
   "source": []
  }
 ],
 "metadata": {
  "kernelspec": {
   "display_name": "Python 3 (ipykernel)",
   "language": "python",
   "name": "python3"
  },
  "language_info": {
   "codemirror_mode": {
    "name": "ipython",
    "version": 3
   },
   "file_extension": ".py",
   "mimetype": "text/x-python",
   "name": "python",
   "nbconvert_exporter": "python",
   "pygments_lexer": "ipython3",
   "version": "3.8.10"
  }
 },
 "nbformat": 4,
 "nbformat_minor": 5
}
