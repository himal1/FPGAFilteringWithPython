{
 "cells": [
  {
   "cell_type": "code",
   "execution_count": 1,
   "id": "2e0f7413",
   "metadata": {},
   "outputs": [],
   "source": [
    "import numpy as np\n",
    "import math\n",
    "import matplotlib.pyplot as plt"
   ]
  },
  {
   "cell_type": "code",
   "execution_count": 2,
   "id": "3db4869b",
   "metadata": {},
   "outputs": [],
   "source": [
    "amp=10\n",
    "tau=500\n",
    "x=np.arange(-3500,3500,1)"
   ]
  },
  {
   "cell_type": "code",
   "execution_count": 3,
   "id": "37761a2c",
   "metadata": {},
   "outputs": [],
   "source": [
    "def expo(amp, x, tau):\n",
    "    y=[0]*len(x)\n",
    "    for i in range (1, len(x)): \n",
    "        if (x[i] > 0):\n",
    "            y[i] = amp * np.exp(-x[i]/tau)\n",
    "        else:\n",
    "            y[i] = 0\n",
    "    return y"
   ]
  },
  {
   "cell_type": "code",
   "execution_count": 4,
   "id": "74825578",
   "metadata": {},
   "outputs": [
    {
     "data": {
      "text/plain": [
       "[<matplotlib.lines.Line2D at 0x7f8ca23974c0>]"
      ]
     },
     "execution_count": 4,
     "metadata": {},
     "output_type": "execute_result"
    },
    {
     "data": {
      "image/png": "[encoded data removed]",
      "text/plain": [
       "<Figure size 432x288 with 1 Axes>"
      ]
     },
     "metadata": {
      "needs_background": "light"
     },
     "output_type": "display_data"
    }
   ],
   "source": [
    "A = expo(amp, x, tau)\n",
    "plt.plot(A)"
   ]
  },
  {
   "cell_type": "code",
   "execution_count": 5,
   "id": "d07689c2",
   "metadata": {},
   "outputs": [],
   "source": [
    "#def trapFilter_new(input1, rise_time, flat_top, length, tau):\n",
    "length=7000\n",
    "rise_time=100\n",
    "flat_top=200\n",
    "input1=A\n",
    "\n",
    "#initialize the arrays\n",
    "trap = [0] *length\n",
    "\n",
    "#make a loop to obtain filtered signal\n",
    "for i in range(0, length):\n",
    "        #single trapezoidal filetr for exponential decay\n",
    "        if i>=(2*rise_time +flat_top):\n",
    "            trap[i] = trap[i-1] + input1[i]-input1[i-rise_time]*np.exp(-rise_time/tau)-input1[i-rise_time-flat_top] + input1[i-2*rise_time-flat_top]*np.exp(-rise_time/tau)\n",
    "#now scale the output\n",
    "for i in range(0, length):\n",
    "    trap[i] = trap[i]/rise_time"
   ]
  },
  {
   "cell_type": "code",
   "execution_count": 7,
   "id": "3f90fd37",
   "metadata": {},
   "outputs": [
    {
     "data": {
      "image/png": "[encoded data removed]",
      "text/plain": [
       "<Figure size 432x288 with 1 Axes>"
      ]
     },
     "metadata": {
      "needs_background": "light"
     },
     "output_type": "display_data"
    }
   ],
   "source": [
    "plt.plot(trap, color='r', label='STF', zorder=2)\n",
    "plt.plot(A, color='b', label='wave', zorder=0)\n",
    "plt.legend()\n",
    "plt.xlim(3800,4000)\n",
    "plt.grid()\n",
    "plt.show()\n"
   ]
  },
  {
   "cell_type": "code",
   "execution_count": null,
   "id": "2c265cc7",
   "metadata": {},
   "outputs": [],
   "source": []
  },
  {
   "cell_type": "code",
   "execution_count": null,
   "id": "cd745be7",
   "metadata": {},
   "outputs": [],
   "source": []
  },
  {
   "cell_type": "code",
   "execution_count": null,
   "id": "406df6d1",
   "metadata": {},
   "outputs": [],
   "source": []
  }
 ],
 "metadata": {
  "kernelspec": {
   "display_name": "Python 3 (ipykernel)",
   "language": "python",
   "name": "python3"
  },
  "language_info": {
   "codemirror_mode": {
    "name": "ipython",
    "version": 3
   },
   "file_extension": ".py",
   "mimetype": "text/x-python",
   "name": "python",
   "nbconvert_exporter": "python",
   "pygments_lexer": "ipython3",
   "version": "3.8.10"
  }
 },
 "nbformat": 4,
 "nbformat_minor": 5
}
