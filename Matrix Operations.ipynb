{
 "cells": [
  {
   "cell_type": "code",
   "execution_count": 1,
   "id": "20cf69fa",
   "metadata": {},
   "outputs": [],
   "source": [
    "import numpy as np\n",
    "import matplotlib.pyplot as plt"
   ]
  },
  {
   "cell_type": "code",
   "execution_count": 2,
   "id": "dcab62ab",
   "metadata": {},
   "outputs": [],
   "source": [
    "v=np.array([1,1,1,1,2,3,4,5,4,3,2,1,1,1,1])"
   ]
  },
  {
   "cell_type": "code",
   "execution_count": 3,
   "id": "c3507cb0",
   "metadata": {},
   "outputs": [
    {
     "data": {
      "text/plain": [
       "[<matplotlib.lines.Line2D at 0x7fcb7d7a76a0>]"
      ]
     },
     "execution_count": 3,
     "metadata": {},
     "output_type": "execute_result"
    },
    {
     "data": {
      "image/png": "[encoded data removed]",
      "text/plain": [
       "<Figure size 432x288 with 1 Axes>"
      ]
     },
     "metadata": {
      "needs_background": "light"
     },
     "output_type": "display_data"
    }
   ],
   "source": [
    "v=np.array(v)*10\n",
    "plt.plot(v)"
   ]
  },
  {
   "cell_type": "code",
   "execution_count": 4,
   "id": "8559a293",
   "metadata": {},
   "outputs": [
    {
     "data": {
      "text/plain": [
       "[[1, 1, 1, 1, 1, 1, 1, 1, 1, 1, 1, 1, 1, 1, 1],\n",
       " [0, 0, 0, 0, 1, 2, 3, 4, 3, 2, 1, 0, 0, 0, 0]]"
      ]
     },
     "execution_count": 4,
     "metadata": {},
     "output_type": "execute_result"
    }
   ],
   "source": [
    "A=[[1, 1, 1, 1, 1, 1, 1, 1, 1, 1, 1, 1, 1, 1, 1],[0, 0, 0, 0, 1, 2, 3, 4, 3, 2, 1, 0, 0, 0, 0]]\n",
    "A"
   ]
  },
  {
   "cell_type": "code",
   "execution_count": 5,
   "id": "5ded6728",
   "metadata": {},
   "outputs": [
    {
     "data": {
      "text/plain": [
       "array([10, 10, 10, 10, 20, 30, 40, 50, 40, 30, 20, 10, 10, 10, 10])"
      ]
     },
     "execution_count": 5,
     "metadata": {},
     "output_type": "execute_result"
    }
   ],
   "source": [
    "#v=A[1]\n",
    "v"
   ]
  },
  {
   "cell_type": "code",
   "execution_count": 6,
   "id": "15f1d799",
   "metadata": {},
   "outputs": [
    {
     "data": {
      "text/plain": [
       "array([[ 44., -16.],\n",
       "       [ 44., -16.],\n",
       "       [ 44., -16.],\n",
       "       [ 44., -16.],\n",
       "       [ 28.,  -1.],\n",
       "       [ 12.,  14.],\n",
       "       [ -4.,  29.],\n",
       "       [-20.,  44.],\n",
       "       [ -4.,  29.],\n",
       "       [ 12.,  14.],\n",
       "       [ 28.,  -1.],\n",
       "       [ 44., -16.],\n",
       "       [ 44., -16.],\n",
       "       [ 44., -16.],\n",
       "       [ 44., -16.]])"
      ]
     },
     "execution_count": 6,
     "metadata": {},
     "output_type": "execute_result"
    }
   ],
   "source": [
    "AP=np.linalg.pinv(A)\n",
    "AP*404"
   ]
  },
  {
   "cell_type": "code",
   "execution_count": 7,
   "id": "d97226b7",
   "metadata": {},
   "outputs": [
    {
     "data": {
      "text/plain": [
       "array([[ 1.00000000e+00,  4.16333634e-17],\n",
       "       [-4.02455846e-16,  1.00000000e+00]])"
      ]
     },
     "execution_count": 7,
     "metadata": {},
     "output_type": "execute_result"
    }
   ],
   "source": [
    "np.matmul(A,AP)"
   ]
  },
  {
   "cell_type": "code",
   "execution_count": 8,
   "id": "e3a0e4d9",
   "metadata": {},
   "outputs": [
    {
     "data": {
      "text/plain": [
       "array([[ 1.00000000e+00,  4.16333634e-17],\n",
       "       [-4.02455846e-16,  1.00000000e+00]])"
      ]
     },
     "execution_count": 8,
     "metadata": {},
     "output_type": "execute_result"
    }
   ],
   "source": [
    "np.matmul(A,AP)"
   ]
  },
  {
   "cell_type": "code",
   "execution_count": 9,
   "id": "370d7adb",
   "metadata": {},
   "outputs": [
    {
     "data": {
      "text/plain": [
       "array([[1, 0],\n",
       "       [1, 0],\n",
       "       [1, 0],\n",
       "       [1, 0],\n",
       "       [1, 1],\n",
       "       [1, 2],\n",
       "       [1, 3],\n",
       "       [1, 4],\n",
       "       [1, 3],\n",
       "       [1, 2],\n",
       "       [1, 1],\n",
       "       [1, 0],\n",
       "       [1, 0],\n",
       "       [1, 0],\n",
       "       [1, 0]])"
      ]
     },
     "execution_count": 9,
     "metadata": {},
     "output_type": "execute_result"
    }
   ],
   "source": [
    "AT=np.transpose(A)\n",
    "AT"
   ]
  },
  {
   "cell_type": "code",
   "execution_count": 10,
   "id": "a743c394",
   "metadata": {},
   "outputs": [],
   "source": [
    "ATA=np.matmul(A,AT)"
   ]
  },
  {
   "cell_type": "code",
   "execution_count": 11,
   "id": "476f2f21",
   "metadata": {},
   "outputs": [
    {
     "data": {
      "text/plain": [
       "array([ 1.08910891,  0.69306931,  0.69306931,  0.69306931,  1.78217822,\n",
       "        2.47524752,  3.16831683,  3.86138614,  2.37623762,  1.68316832,\n",
       "        0.99009901,  0.2970297 ,  0.69306931,  0.69306931,  0.69306931,\n",
       "       -0.3960396 ])"
      ]
     },
     "execution_count": 11,
     "metadata": {},
     "output_type": "execute_result"
    }
   ],
   "source": [
    "a1=np.convolve(AP[0],v,mode='full')\n",
    "a1"
   ]
  },
  {
   "cell_type": "code",
   "execution_count": 12,
   "id": "77b10fa1",
   "metadata": {},
   "outputs": [
    {
     "data": {
      "text/plain": [
       "array([ 1.08910891,  0.69306931,  0.69306931,  0.69306931,  1.78217822,\n",
       "        2.47524752,  3.16831683,  3.86138614,  2.37623762,  1.68316832,\n",
       "        0.99009901,  0.2970297 ,  0.69306931,  0.69306931,  0.69306931,\n",
       "       -0.3960396 ])"
      ]
     },
     "execution_count": 12,
     "metadata": {},
     "output_type": "execute_result"
    }
   ],
   "source": [
    "a2=np.convolve(AP[1,:],v,mode='full')\n",
    "a2"
   ]
  },
  {
   "cell_type": "code",
   "execution_count": 13,
   "id": "01264aff",
   "metadata": {},
   "outputs": [
    {
     "data": {
      "text/plain": [
       "array([[ 1.08910891,  0.69306931,  0.69306931,  0.69306931,  1.78217822,\n",
       "         2.47524752,  3.16831683,  3.86138614,  2.37623762,  1.68316832,\n",
       "         0.99009901,  0.2970297 ,  0.69306931,  0.69306931,  0.69306931,\n",
       "        -0.3960396 ],\n",
       "       [ 1.08910891,  0.69306931,  0.69306931,  0.69306931,  1.78217822,\n",
       "         2.47524752,  3.16831683,  3.86138614,  2.37623762,  1.68316832,\n",
       "         0.99009901,  0.2970297 ,  0.69306931,  0.69306931,  0.69306931,\n",
       "        -0.3960396 ]])"
      ]
     },
     "execution_count": 13,
     "metadata": {},
     "output_type": "execute_result"
    }
   ],
   "source": [
    "a=np.array([a1,a2])\n",
    "a"
   ]
  },
  {
   "cell_type": "code",
   "execution_count": 14,
   "id": "eae46376",
   "metadata": {},
   "outputs": [
    {
     "data": {
      "text/plain": [
       "array([-16., -16., -16., -16.,  -1.,  14.,  29.,  44.,  29.,  14.,  -1.,\n",
       "       -16., -16., -16., -16.])"
      ]
     },
     "execution_count": 14,
     "metadata": {},
     "output_type": "execute_result"
    }
   ],
   "source": [
    "AP[:,1]*404"
   ]
  },
  {
   "cell_type": "code",
   "execution_count": 15,
   "id": "043dffc3",
   "metadata": {},
   "outputs": [
    {
     "data": {
      "text/plain": [
       "array([ 44.,  44.,  44.,  44.,  28.,  12.,  -4., -20.,  -4.,  12.,  28.,\n",
       "        44.,  44.,  44.,  44.])"
      ]
     },
     "execution_count": 15,
     "metadata": {},
     "output_type": "execute_result"
    }
   ],
   "source": [
    "AP[:,0]*404"
   ]
  },
  {
   "cell_type": "code",
   "execution_count": 16,
   "id": "fd7929a4",
   "metadata": {},
   "outputs": [],
   "source": [
    "bak=np.convolve(AP[:,0],v,mode='full')"
   ]
  },
  {
   "cell_type": "code",
   "execution_count": 17,
   "id": "c7e8b30c",
   "metadata": {},
   "outputs": [],
   "source": [
    "sig=np.convolve(AP[:,1],v,mode='full')"
   ]
  },
  {
   "cell_type": "code",
   "execution_count": 18,
   "id": "95002a39",
   "metadata": {},
   "outputs": [
    {
     "data": {
      "image/png": "[encoded data removed]",
      "text/plain": [
       "<Figure size 432x288 with 1 Axes>"
      ]
     },
     "metadata": {
      "needs_background": "light"
     },
     "output_type": "display_data"
    }
   ],
   "source": [
    "plt.plot(sig)\n",
    "plt.plot(bak)\n",
    "plt.grid()"
   ]
  },
  {
   "cell_type": "markdown",
   "id": "2ffa39ce",
   "metadata": {},
   "source": [
    "## new waveform work"
   ]
  },
  {
   "cell_type": "code",
   "execution_count": 19,
   "id": "98bc4f90",
   "metadata": {},
   "outputs": [],
   "source": [
    "# Create the array\n",
    "A_r = np.concatenate([np.full(5, 0), [7, 5, 3, 2, 1.5, 1, 0.5], np.full(5, 0)]) \n",
    "A_c=np.full(17, 1)\n"
   ]
  },
  {
   "cell_type": "code",
   "execution_count": 20,
   "id": "0195f9f4",
   "metadata": {},
   "outputs": [
    {
     "data": {
      "text/plain": [
       "[array([0. , 0. , 0. , 0. , 0. , 7. , 5. , 3. , 2. , 1.5, 1. , 0.5, 0. ,\n",
       "        0. , 0. , 0. , 0. ]),\n",
       " array([1, 1, 1, 1, 1, 1, 1, 1, 1, 1, 1, 1, 1, 1, 1, 1, 1])]"
      ]
     },
     "execution_count": 20,
     "metadata": {},
     "output_type": "execute_result"
    },
    {
     "data": {
      "image/png": "[encoded data removed]",
      "text/plain": [
       "<Figure size 432x288 with 1 Axes>"
      ]
     },
     "metadata": {
      "needs_background": "light"
     },
     "output_type": "display_data"
    }
   ],
   "source": [
    "A_n=[A_r,A_c]\n",
    "plt.plot(A_n[0])\n",
    "A_n"
   ]
  },
  {
   "cell_type": "code",
   "execution_count": 21,
   "id": "02ddd7c4",
   "metadata": {},
   "outputs": [
    {
     "name": "stdout",
     "output_type": "stream",
     "text": [
      "207\n"
     ]
    },
    {
     "data": {
      "text/plain": [
       "[<matplotlib.lines.Line2D at 0x7fcb7b5e4f40>]"
      ]
     },
     "execution_count": 21,
     "metadata": {},
     "output_type": "execute_result"
    },
    {
     "data": {
      "image/png": "[encoded data removed]",
      "text/plain": [
       "<Figure size 432x288 with 1 Axes>"
      ]
     },
     "metadata": {
      "needs_background": "light"
     },
     "output_type": "display_data"
    }
   ],
   "source": [
    "v_n=np.concatenate([np.full(100,1),[8,6,4,3,2.5,2.,1.5],np.full(100,1)])\n",
    "v_n=np.array(v_n)\n",
    "print(len(v_n))\n",
    "plt.plot(v_n)"
   ]
  },
  {
   "cell_type": "code",
   "execution_count": 22,
   "id": "61243270",
   "metadata": {},
   "outputs": [],
   "source": [
    "A_n_p=np.linalg.pinv(A_n)\n",
    "B_n=np.matmul(np.transpose(A_n),A_n)\n",
    "#B_n"
   ]
  },
  {
   "cell_type": "code",
   "execution_count": 23,
   "id": "43bbd0e0",
   "metadata": {},
   "outputs": [],
   "source": [
    "sig_n=np.convolve(A_n_p[:,0],v_n,mode='full')\n",
    "bak_n=np.convolve(A_n_p[:,1],v_n,mode='full')"
   ]
  },
  {
   "cell_type": "code",
   "execution_count": 24,
   "id": "9cffcab1",
   "metadata": {},
   "outputs": [
    {
     "data": {
      "image/png": "[encoded data removed]",
      "text/plain": [
       "<Figure size 432x288 with 1 Axes>"
      ]
     },
     "metadata": {
      "needs_background": "light"
     },
     "output_type": "display_data"
    }
   ],
   "source": [
    "sig_n=np.delete(sig_n, np.s_[0:16])\n",
    "bak_n=np.delete(bak_n, np.s_[0:16])\n",
    "sig_n=np.delete(sig_n, np.s_[-16:])\n",
    "bak_n=np.delete(bak_n, np.s_[-16:])\n",
    "plt.plot(bak_n)\n",
    "plt.plot(sig_n)\n",
    "plt.grid()\n",
    "#sig\n",
    "#plt.ylim(-1,4)\n",
    "#plt.xlim(40,50)"
   ]
  },
  {
   "cell_type": "markdown",
   "id": "0f8a06e2",
   "metadata": {},
   "source": [
    "## same signal with symmentric signal"
   ]
  },
  {
   "cell_type": "code",
   "execution_count": 25,
   "id": "468e5dbc",
   "metadata": {},
   "outputs": [
    {
     "data": {
      "text/plain": [
       "[array([0. , 0. , 0. , 0. , 0. , 0.5, 1. , 1.5, 2. , 3. , 5. , 7. , 5. ,\n",
       "        3. , 2. , 1.5, 1. , 0.5, 0. , 0. , 0. , 0. , 0. ]),\n",
       " array([1, 1, 1, 1, 1, 1, 1, 1, 1, 1, 1, 1, 1, 1, 1, 1, 1, 1, 1, 1, 1, 1,\n",
       "        1])]"
      ]
     },
     "execution_count": 25,
     "metadata": {},
     "output_type": "execute_result"
    },
    {
     "data": {
      "image/png": "[encoded data removed]",
      "text/plain": [
       "<Figure size 432x288 with 1 Axes>"
      ]
     },
     "metadata": {
      "needs_background": "light"
     },
     "output_type": "display_data"
    }
   ],
   "source": [
    "# Create the array\n",
    "A_r = np.concatenate([np.full(5, 0), [0.5,1,1.5,2,3,5,7, 5, 3, 2, 1.5, 1, 0.5], np.full(5, 0)]) \n",
    "A_c=np.full(23, 1)\n",
    "A_n=[A_r,A_c]\n",
    "plt.plot(A_n[0])\n",
    "A_n"
   ]
  },
  {
   "cell_type": "code",
   "execution_count": 26,
   "id": "7fedfb3a",
   "metadata": {},
   "outputs": [],
   "source": [
    "v_n=np.concatenate([np.full(100,1),[2,3,4,5,7,11,15,11,7,5,4,3,2],np.full(100,1)])"
   ]
  },
  {
   "cell_type": "code",
   "execution_count": 27,
   "id": "cf5ee96d",
   "metadata": {},
   "outputs": [],
   "source": [
    "A_n_p=np.linalg.pinv(A_n)\n",
    "B_n=np.matmul(np.transpose(A_n),A_n)\n",
    "#B_n"
   ]
  },
  {
   "cell_type": "code",
   "execution_count": 28,
   "id": "02e9ae18",
   "metadata": {},
   "outputs": [],
   "source": [
    "sig_n=np.convolve(A_n_p[:,0],v_n,mode='full')\n",
    "bak_n=np.convolve(A_n_p[:,1],v_n,mode='full')"
   ]
  },
  {
   "cell_type": "code",
   "execution_count": 29,
   "id": "3221e84d",
   "metadata": {},
   "outputs": [
    {
     "data": {
      "image/png": "[encoded data removed]",
      "text/plain": [
       "<Figure size 432x288 with 1 Axes>"
      ]
     },
     "metadata": {
      "needs_background": "light"
     },
     "output_type": "display_data"
    }
   ],
   "source": [
    "#sig_n=np.delete(sig_n, np.s_[0:23])\n",
    "#bak_n=np.delete(bak_n, np.s_[0:23])\n",
    "#sig_n=np.delete(sig_n, np.s_[-23:])\n",
    "#bak_n=np.delete(bak_n, np.s_[-23:])\n",
    "plt.plot(bak_n)\n",
    "plt.plot(sig_n)\n",
    "plt.grid()\n",
    "#sig\n",
    "#plt.ylim(-1,4)\n",
    "#plt.xlim(40,50)"
   ]
  },
  {
   "cell_type": "markdown",
   "id": "4073d734",
   "metadata": {},
   "source": [
    "## Aaron's work"
   ]
  },
  {
   "cell_type": "code",
   "execution_count": 30,
   "id": "a464bdcc",
   "metadata": {},
   "outputs": [],
   "source": [
    "t1=np.arange(0, 234)\n",
    "line1=1.33082*10**-7*t1**2 - 1.28812*10**-4*t1 + 9.40295*10**-3\n",
    "\n",
    "t2=np.arange(234, 257)\n",
    "line2=4.96880*10**-5*t2**2-2.37043*10**-2*t2 + 2.81339\n",
    "\n",
    "t3=np.arange(257, 276)\n",
    "line3=-4.42091*10**-5*t3**2 - 2.41609*10**-2*t3 - 3.28474\n",
    "\n",
    "t4=np.arange(276, 500)\n",
    "line4=2.09523 * 10**-7*t4**2 - 2.72802 * 10**-4*t4 + 9.40295 * 10**-2\n"
   ]
  },
  {
   "cell_type": "code",
   "execution_count": 31,
   "id": "d31f9dc8",
   "metadata": {},
   "outputs": [
    {
     "data": {
      "text/plain": [
       "[[0.00940295, -0.000128812, 1.3308199999999997e-07],\n",
       " [2.81339, -0.023704299999999998, 4.9688e-05],\n",
       " [-3.28474, -0.024160900000000003, -4.42091e-05],\n",
       " [0.0940295, -0.000272802, 2.09523e-07]]"
      ]
     },
     "execution_count": 31,
     "metadata": {},
     "output_type": "execute_result"
    }
   ],
   "source": [
    "C_matrix=[[9.40295*10**-3, -1.28812*10**-4,  1.33082*10**-7], [2.81339, -2.37043*10**-2,  4.96880*10**-5], [-3.28474, -2.41609*10**-2,  -4.42091*10**-5], [9.40295 * 10**-2 , -2.72802 * 10**-4, 2.09523 * 10**-7]]\n",
    "C_matrix"
   ]
  },
  {
   "cell_type": "code",
   "execution_count": 32,
   "id": "638b22df",
   "metadata": {},
   "outputs": [
    {
     "data": {
      "text/plain": [
       "[0.00940295, -0.000128812, 1.3308199999999997e-07]"
      ]
     },
     "execution_count": 32,
     "metadata": {},
     "output_type": "execute_result"
    }
   ],
   "source": [
    "C_matrix[0]"
   ]
  },
  {
   "cell_type": "code",
   "execution_count": 33,
   "id": "bf0bc706",
   "metadata": {},
   "outputs": [
    {
     "data": {
      "text/plain": [
       "[[1, 0, 0], [0, 1, 0.5], [0, 0, 0.5]]"
      ]
     },
     "execution_count": 33,
     "metadata": {},
     "output_type": "execute_result"
    }
   ],
   "source": [
    "M=[[1,0,0],[0,1,0.5],[0,0,0.5]]\n",
    "M"
   ]
  },
  {
   "cell_type": "code",
   "execution_count": 34,
   "id": "a36d62a9",
   "metadata": {},
   "outputs": [
    {
     "data": {
      "text/plain": [
       "array([[ 1.,  0.,  0.],\n",
       "       [ 0.,  1., -1.],\n",
       "       [ 0.,  0.,  2.]])"
      ]
     },
     "execution_count": 34,
     "metadata": {},
     "output_type": "execute_result"
    }
   ],
   "source": [
    "M_inv=np.linalg.inv(M)\n",
    "M_inv"
   ]
  },
  {
   "cell_type": "markdown",
   "id": "13029f4d",
   "metadata": {},
   "source": [
    "Finally the coefficient for the response function came out to be:"
   ]
  },
  {
   "cell_type": "code",
   "execution_count": 35,
   "id": "3d73044d",
   "metadata": {},
   "outputs": [
    {
     "data": {
      "text/plain": [
       "array([ 9.40295000e-03, -1.28945082e-04,  2.66164000e-07])"
      ]
     },
     "execution_count": 35,
     "metadata": {},
     "output_type": "execute_result"
    }
   ],
   "source": [
    "np.matmul(M_inv,np.transpose(C_matrix[0]))"
   ]
  },
  {
   "cell_type": "markdown",
   "id": "492a64bb",
   "metadata": {},
   "source": [
    "## Work for chi2"
   ]
  },
  {
   "cell_type": "code",
   "execution_count": 36,
   "id": "13e83c5a",
   "metadata": {},
   "outputs": [
    {
     "data": {
      "text/plain": [
       "[<matplotlib.lines.Line2D at 0x7fcb7b493100>]"
      ]
     },
     "execution_count": 36,
     "metadata": {},
     "output_type": "execute_result"
    },
    {
     "data": {
      "image/png": "[encoded data removed]",
      "text/plain": [
       "<Figure size 432x288 with 1 Axes>"
      ]
     },
     "metadata": {
      "needs_background": "light"
     },
     "output_type": "display_data"
    }
   ],
   "source": [
    "ChiA_r = np.concatenate([np.full(3,0),[1,2,3,4,5,5,4,3,2,1],np.full(2,0)])\n",
    "ChiA_c=np.full(15, 1)\n",
    "ChiA_n=[ChiA_r,ChiA_c]\n",
    "plt.plot(ChiA_n[0])\n",
    "#A_n"
   ]
  },
  {
   "cell_type": "code",
   "execution_count": 37,
   "id": "1d47e8b3",
   "metadata": {},
   "outputs": [],
   "source": [
    "Chi_v=np.concatenate([np.full(50,1),[2,3,4,5,6,6,5,4,3,2],np.full(50,1),[3,5,7,9,11,11,9,7,5,3], np.full(50,1)])\n",
    "#Chi_v"
   ]
  },
  {
   "cell_type": "code",
   "execution_count": 38,
   "id": "446530e1",
   "metadata": {},
   "outputs": [],
   "source": [
    "ChiA_n_p=np.linalg.pinv(ChiA_n)\n",
    "ChiB_n=np.matmul(np.transpose(ChiA_n),ChiA_n)\n",
    "#B_n"
   ]
  },
  {
   "cell_type": "code",
   "execution_count": 39,
   "id": "ecdf5285",
   "metadata": {},
   "outputs": [],
   "source": [
    "Chi_sig=np.convolve(ChiA_n_p[:,0],Chi_v,mode='full')\n",
    "Chi_bak=np.convolve(ChiA_n_p[:,1],Chi_v,mode='full')\n"
   ]
  },
  {
   "cell_type": "markdown",
   "id": "8c6b00f6",
   "metadata": {},
   "source": [
    "As length of signal (i.e. convoluting array is of length 15), first 15 element and last 15 element need to be removed\n",
    "- now the length of coefficient array is 155 "
   ]
  },
  {
   "cell_type": "code",
   "execution_count": 40,
   "id": "00e636b6",
   "metadata": {},
   "outputs": [],
   "source": [
    "dd=len(ChiA_r)\n",
    "Chi_sig = np.delete(Chi_sig, np.s_[0:dd])\n",
    "Chi_sig = np.delete(Chi_sig, np.s_[-dd:])\n",
    "Chi_bak = np.delete(Chi_bak, np.s_[0:dd])\n",
    "Chi_bak = np.delete(Chi_bak, np.s_[-dd:])\n",
    "#Chi_bak = np.roll(Chi_bak, -14)"
   ]
  },
  {
   "cell_type": "code",
   "execution_count": 41,
   "id": "3f1ad3c8",
   "metadata": {},
   "outputs": [
    {
     "data": {
      "image/png": "[encoded data removed]",
      "text/plain": [
       "<Figure size 432x288 with 1 Axes>"
      ]
     },
     "metadata": {
      "needs_background": "light"
     },
     "output_type": "display_data"
    }
   ],
   "source": [
    "plt.plot(Chi_sig)\n",
    "plt.plot(Chi_bak)\n",
    "#plt.xlim(120,125)\n",
    "plt.grid()"
   ]
  },
  {
   "cell_type": "code",
   "execution_count": 42,
   "id": "e671678e",
   "metadata": {},
   "outputs": [
    {
     "data": {
      "text/plain": [
       "154"
      ]
     },
     "execution_count": 42,
     "metadata": {},
     "output_type": "execute_result"
    }
   ],
   "source": [
    "len(Chi_sig)\n",
    "len(Chi_bak)"
   ]
  },
  {
   "cell_type": "code",
   "execution_count": 43,
   "id": "dd2aa1ee",
   "metadata": {},
   "outputs": [
    {
     "name": "stdout",
     "output_type": "stream",
     "text": [
      "[1. 1. 1. 1. 1. 1. 1. 1. 1. 1. 1. 1. 1. 1. 1.]\n"
     ]
    }
   ],
   "source": [
    "v_t= np.zeros((len(Chi_sig), len(ChiA_r)))\n",
    "for i in range (0,len(Chi_sig),1):\n",
    "    for j in range (0,len(ChiA_r)):\n",
    "        #print(j)\n",
    "        if((i+j)<170):\n",
    "            v_t[i][j]=Chi_v[i+j]\n",
    "        else: \n",
    "            v_t[i][j]=0\n",
    "print(v_t[0])\n",
    "    \n",
    "        "
   ]
  },
  {
   "cell_type": "code",
   "execution_count": 44,
   "id": "f5563158",
   "metadata": {},
   "outputs": [],
   "source": [
    "v_f=[0]*len(Chi_sig)\n",
    "Chi2=[0]*len(Chi_sig)\n",
    "for i in range (0, len(Chi_sig)):\n",
    "    v_f[i]=(Chi_sig[i]*ChiA_r + Chi_bak[i]*ChiA_c)\n",
    "    Chi2[i]=np.sum((v_f[i]-v_t[i])**2)\n"
   ]
  },
  {
   "cell_type": "code",
   "execution_count": 45,
   "id": "8e77caa0",
   "metadata": {},
   "outputs": [
    {
     "data": {
      "text/plain": [
       "<matplotlib.legend.Legend at 0x7fcb7b379b50>"
      ]
     },
     "execution_count": 45,
     "metadata": {},
     "output_type": "execute_result"
    },
    {
     "data": {
      "image/png": "[encoded data removed]",
      "text/plain": [
       "<Figure size 432x288 with 1 Axes>"
      ]
     },
     "metadata": {
      "needs_background": "light"
     },
     "output_type": "display_data"
    }
   ],
   "source": [
    "plt.plot(np.array(Chi2)/20,'-',label=\"ChiSquare/20\")\n",
    "plt.plot(Chi_sig,'.',label=\"Fitted Signal Amplitude\")\n",
    "plt.plot(Chi_bak,'*',label=\"Fitted Background Amplitude\")\n",
    "#plt.xlim(40,60)\n",
    "plt.grid()\n",
    "plt.legend()"
   ]
  },
  {
   "cell_type": "code",
   "execution_count": 46,
   "id": "6357ef19",
   "metadata": {},
   "outputs": [
    {
     "data": {
      "text/plain": [
       "<matplotlib.legend.Legend at 0x7fcb7b2fea30>"
      ]
     },
     "execution_count": 46,
     "metadata": {},
     "output_type": "execute_result"
    },
    {
     "data": {
      "image/png": "[encoded data removed]",
      "text/plain": [
       "<Figure size 432x288 with 1 Axes>"
      ]
     },
     "metadata": {
      "needs_background": "light"
     },
     "output_type": "display_data"
    }
   ],
   "source": [
    "plt.plot(np.array(Chi2)/10,'-',label=\"ChiSquare/10\")\n",
    "plt.plot(Chi_sig,'.',label=\"Fitted Signal Amplitude\")\n",
    "plt.plot(Chi_bak,'*',label=\"Fitted Background Amplitude\")\n",
    "plt.xlim(30,60)\n",
    "plt.ylim(-1,8)\n",
    "plt.grid()\n",
    "plt.legend()"
   ]
  },
  {
   "cell_type": "code",
   "execution_count": 47,
   "id": "a53fbddf",
   "metadata": {},
   "outputs": [
    {
     "data": {
      "text/plain": [
       "<matplotlib.legend.Legend at 0x7fcb7b280e80>"
      ]
     },
     "execution_count": 47,
     "metadata": {},
     "output_type": "execute_result"
    },
    {
     "data": {
      "image/png": "[encoded data removed]",
      "text/plain": [
       "<Figure size 432x288 with 1 Axes>"
      ]
     },
     "metadata": {
      "needs_background": "light"
     },
     "output_type": "display_data"
    }
   ],
   "source": [
    "plt.plot(np.array(Chi2)/25,'-',label=\"ChiSquare/25\")\n",
    "plt.plot(Chi_sig,'.',label=\"Fitted Signal Amplitude\")\n",
    "plt.plot(Chi_bak,'*',label=\"Fitted Background Amplitude\")\n",
    "plt.xlim(90,120)\n",
    "plt.ylim(-1,12)\n",
    "plt.grid()\n",
    "plt.legend()"
   ]
  },
  {
   "cell_type": "code",
   "execution_count": null,
   "id": "57338f95",
   "metadata": {},
   "outputs": [],
   "source": []
  }
 ],
 "metadata": {
  "kernelspec": {
   "display_name": "Python 3 (ipykernel)",
   "language": "python",
   "name": "python3"
  },
  "language_info": {
   "codemirror_mode": {
    "name": "ipython",
    "version": 3
   },
   "file_extension": ".py",
   "mimetype": "text/x-python",
   "name": "python",
   "nbconvert_exporter": "python",
   "pygments_lexer": "ipython3",
   "version": "3.8.10"
  }
 },
 "nbformat": 4,
 "nbformat_minor": 5
}
