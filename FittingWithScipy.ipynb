{
 "cells": [
  {
   "cell_type": "code",
   "execution_count": 1,
   "id": "cd9a7e28",
   "metadata": {},
   "outputs": [],
   "source": [
    "import numpy as np\n",
    "import matplotlib.pyplot as plt\n",
    "from scipy.optimize import curve_fit\n",
    "import pandas as pd\n",
    "import random\n",
    "from scipy import odr"
   ]
  },
  {
   "cell_type": "code",
   "execution_count": 2,
   "id": "159036a2",
   "metadata": {},
   "outputs": [],
   "source": [
    "def func(x, a, b, c, d):\n",
    "    y = a*x**3 + b*x**2 + c * x + d\n",
    "    return y"
   ]
  },
  {
   "cell_type": "code",
   "execution_count": 3,
   "id": "bbc02320",
   "metadata": {},
   "outputs": [],
   "source": [
    "def func1(x, a, b, c, d,e, f, g, h):\n",
    "    y = a*x**7 + b*x**6 + c * x**5 + d*x**4 +e*x**3 + f*x**2 +g*x +h\n",
    "    return y"
   ]
  },
  {
   "cell_type": "code",
   "execution_count": 4,
   "id": "2be15614",
   "metadata": {},
   "outputs": [],
   "source": [
    "x=np.arange(-3500,3500,1)"
   ]
  },
  {
   "cell_type": "code",
   "execution_count": 5,
   "id": "c6f11c7e",
   "metadata": {},
   "outputs": [],
   "source": [
    "def fermi(x,amp):\n",
    "    y=[0]*len(x)\n",
    "    for i in range (1, len(x)):\n",
    "        if (x[i]<5):\n",
    "            y[i]=amp*(1-(1/(np.exp(x[i])+1)))\n",
    "        else:\n",
    "            y[i]=0\n",
    "    return y"
   ]
  },
  {
   "cell_type": "code",
   "execution_count": 6,
   "id": "9c471b67",
   "metadata": {},
   "outputs": [],
   "source": [
    "\n",
    "def expo(amp, x, tau):\n",
    "    y=[0]*len(x)#x*0\n",
    "    for i in range (1, len(x)): \n",
    "        if (x[i] >= 5):\n",
    "            y[i] = amp * np.exp(-x[i]/tau)\n",
    "        else:\n",
    "            y[i] = 0\n",
    "    return y"
   ]
  },
  {
   "cell_type": "code",
   "execution_count": 7,
   "id": "c654bdb4",
   "metadata": {},
   "outputs": [],
   "source": [
    "Fermi=fermi(x,5)"
   ]
  },
  {
   "cell_type": "code",
   "execution_count": 8,
   "id": "f9547c83",
   "metadata": {},
   "outputs": [],
   "source": [
    "#plt.plot(Fermi)\n",
    "#plt.xlim(3490,3515)"
   ]
  },
  {
   "cell_type": "code",
   "execution_count": 9,
   "id": "762c46c2",
   "metadata": {},
   "outputs": [],
   "source": [
    "N=[0.]*7000\n",
    "N=np.array(N)\n",
    "for i in range (0,7000):\n",
    "    N[i]=random.uniform(-1,1)\n",
    "N=N*0\n",
    "#now baseline offset\n",
    "baseline_c=[0]*7000\n",
    "baseline_c=np.array(baseline_c)\n",
    "A = baseline_c+expo(5, x, 500)\n",
    "A=np.array(A)\n",
    "#Hence the total signal\n",
    "T=A+N+Fermi"
   ]
  },
  {
   "cell_type": "code",
   "execution_count": 10,
   "id": "5154198a",
   "metadata": {},
   "outputs": [
    {
     "data": {
      "text/plain": [
       "[<matplotlib.lines.Line2D at 0x7f41900fafd0>]"
      ]
     },
     "execution_count": 10,
     "metadata": {},
     "output_type": "execute_result"
    },
    {
     "data": {
      "image/png": "[encoded data removed]",
      "text/plain": [
       "<Figure size 432x288 with 1 Axes>"
      ]
     },
     "metadata": {
      "needs_background": "light"
     },
     "output_type": "display_data"
    }
   ],
   "source": [
    "plt.plot(T)\n",
    "#plt.xlim(3400,3800)"
   ]
  },
  {
   "cell_type": "code",
   "execution_count": 11,
   "id": "3952e94c",
   "metadata": {},
   "outputs": [],
   "source": [
    "df = pd.DataFrame(T, columns=['xdata'])\n",
    "t=np.arange(7000)\n",
    "df[\"time\"]=t-3500"
   ]
  },
  {
   "cell_type": "code",
   "execution_count": 12,
   "id": "064f648b",
   "metadata": {},
   "outputs": [],
   "source": [
    "#df"
   ]
  },
  {
   "cell_type": "code",
   "execution_count": 13,
   "id": "7808ec1a",
   "metadata": {},
   "outputs": [],
   "source": [
    "df_1=df.loc[df[\"time\"]<-5]\n",
    "df_2=df.loc[(df[\"time\"]>=-5) & (df[\"time\"]<= 5)]\n",
    "df_3=df.loc[df[\"time\"]>5]\n"
   ]
  },
  {
   "cell_type": "code",
   "execution_count": 14,
   "id": "2f456c34",
   "metadata": {},
   "outputs": [],
   "source": [
    "#df_3"
   ]
  },
  {
   "cell_type": "code",
   "execution_count": 15,
   "id": "d067757e",
   "metadata": {},
   "outputs": [],
   "source": [
    "parameters1, covariance1 = curve_fit(func, df_1[\"time\"], df_1[\"xdata\"])\n",
    "parameters2, covariance2 = curve_fit(func, df_2[\"time\"], df_2[\"xdata\"])\n",
    "parameters3, covariance3 = curve_fit(func, df_3[\"time\"], df_3[\"xdata\"])"
   ]
  },
  {
   "cell_type": "code",
   "execution_count": 16,
   "id": "d67f7d9f",
   "metadata": {},
   "outputs": [
    {
     "name": "stdout",
     "output_type": "stream",
     "text": [
      "1.829539501273694e-14\n",
      "1.0994292171161868e-10\n",
      "1.9287972357254866e-07\n",
      "9.044593357347663e-05\n",
      "-0.019602781047793227\n",
      "-0.0002847303628938924\n",
      "0.9613679328171346\n",
      "2.5013667057346938\n",
      "-3.804074003747945e-10\n",
      "2.6698490832323645e-06\n",
      "-0.006025118257309762\n",
      "4.432286525446169\n"
     ]
    }
   ],
   "source": [
    "fit_A_1 = parameters1[0]\n",
    "fit_B_1 = parameters1[1]\n",
    "fit_C_1 = parameters1[2]\n",
    "fit_D_1 = parameters1[3]\n",
    "print(fit_A_1)\n",
    "print(fit_B_1)\n",
    "print(fit_C_1)\n",
    "print(fit_D_1)\n",
    "fit_A_2 = parameters2[0]\n",
    "fit_B_2 = parameters2[1]\n",
    "fit_C_2 = parameters2[2]\n",
    "fit_D_2 = parameters2[3]\n",
    "print(fit_A_2)\n",
    "print(fit_B_2)\n",
    "print(fit_C_2)\n",
    "print(fit_D_2)\n",
    "fit_A_3 = parameters3[0]\n",
    "fit_B_3 = parameters3[1]\n",
    "fit_C_3 = parameters3[2]\n",
    "fit_D_3 = parameters3[3]\n",
    "print(fit_A_3)\n",
    "print(fit_B_3)\n",
    "print(fit_C_3)\n",
    "print(fit_D_3)"
   ]
  },
  {
   "cell_type": "code",
   "execution_count": 17,
   "id": "500cc2a2",
   "metadata": {},
   "outputs": [],
   "source": [
    "#fit_y_1 = func(df_1[\"time\"], fit_A_1, fit_B_1,fit_C_1,fit_D_1)\n",
    "#plt.plot(df_1[\"time\"], df_1[\"xdata\"], 'o', label='data')\n",
    "#plt.plot(df_1[\"time\"], fit_y_1, '-', label='fit')\n",
    "#plt.legend()"
   ]
  },
  {
   "cell_type": "code",
   "execution_count": 18,
   "id": "f0c276dc",
   "metadata": {},
   "outputs": [],
   "source": [
    "#fit_y_2 = func(df_2[\"time\"], fit_A_2, fit_B_2,fit_C_2,fit_D_2)\n",
    "#plt.plot(df_2[\"time\"], df_2[\"xdata\"], 'o', label='data')\n",
    "#plt.plot(df_2[\"time\"], fit_y_2, '-', label='fit')\n",
    "#plt.legend()"
   ]
  },
  {
   "cell_type": "code",
   "execution_count": 19,
   "id": "824bfddb",
   "metadata": {},
   "outputs": [],
   "source": [
    "#fit_y_3 = func(df_3[\"time\"], fit_A_3, fit_B_3,fit_C_3,fit_D_3)\n",
    "#plt.plot(df_3[\"time\"], df_3[\"xdata\"], 'o', label='data')\n",
    "#plt.plot(df_3[\"time\"], fit_y_3, '-', label='fit')\n",
    "#plt.legend()"
   ]
  },
  {
   "cell_type": "markdown",
   "id": "d32e2f22",
   "metadata": {},
   "source": [
    "#New fit"
   ]
  },
  {
   "cell_type": "code",
   "execution_count": 20,
   "id": "3b9f555f",
   "metadata": {},
   "outputs": [],
   "source": [
    "parameters1, covariance1 = curve_fit(func1, df_1[\"time\"], df_1[\"xdata\"])\n",
    "parameters2, covariance2 = curve_fit(func1, df_2[\"time\"], df_2[\"xdata\"])\n",
    "parameters3, covariance3 = curve_fit(func1, df_3[\"time\"], df_3[\"xdata\"])"
   ]
  },
  {
   "cell_type": "code",
   "execution_count": 22,
   "id": "0b98e17d",
   "metadata": {},
   "outputs": [
    {
     "data": {
      "text/plain": [
       "<matplotlib.legend.Legend at 0x7f418bfc5a00>"
      ]
     },
     "execution_count": 22,
     "metadata": {},
     "output_type": "execute_result"
    },
    {
     "data": {
      "image/png": "[encoded data removed]",
      "text/plain": [
       "<Figure size 432x288 with 1 Axes>"
      ]
     },
     "metadata": {
      "needs_background": "light"
     },
     "output_type": "display_data"
    }
   ],
   "source": [
    "Newfit_y_2 = func1(df_2[\"time\"], Newfit_A_2, Newfit_B_2, Newfit_C_2, Newfit_D_2, Newfit_E_2, Newfit_F_2, Newfit_G_2, Newfit_H_2)\n",
    "plt.plot(df_2[\"time\"], df_2[\"xdata\"], 'o', label='data')\n",
    "plt.plot(df_2[\"time\"], Newfit_y_2, '-', label='fit')\n",
    "plt.legend()"
   ]
  },
  {
   "cell_type": "code",
   "execution_count": 23,
   "id": "515e282f",
   "metadata": {
    "scrolled": true
   },
   "outputs": [
    {
     "data": {
      "text/plain": [
       "<matplotlib.legend.Legend at 0x7f418bf32e50>"
      ]
     },
     "execution_count": 23,
     "metadata": {},
     "output_type": "execute_result"
    },
    {
     "data": {
      "image/png": "[encoded data removed]",
      "text/plain": [
       "<Figure size 432x288 with 1 Axes>"
      ]
     },
     "metadata": {
      "needs_background": "light"
     },
     "output_type": "display_data"
    }
   ],
   "source": [
    "Newfit_y_1 = func1(df_1[\"time\"], Newfit_A_1, Newfit_B_1, Newfit_C_1, Newfit_D_1, Newfit_E_1, Newfit_F_1, Newfit_G_1, Newfit_H_1)\n",
    "plt.plot(df_1[\"time\"], df_1[\"xdata\"], 'o', label='data')\n",
    "plt.plot(df_1[\"time\"], Newfit_y_1, '-', label='fit')\n",
    "plt.legend()"
   ]
  },
  {
   "cell_type": "code",
   "execution_count": 24,
   "id": "18428d16",
   "metadata": {},
   "outputs": [
    {
     "data": {
      "text/plain": [
       "<matplotlib.legend.Legend at 0x7f418beb3850>"
      ]
     },
     "execution_count": 24,
     "metadata": {},
     "output_type": "execute_result"
    },
    {
     "data": {
      "image/png": "[encoded data removed]",
      "text/plain": [
       "<Figure size 432x288 with 1 Axes>"
      ]
     },
     "metadata": {
      "needs_background": "light"
     },
     "output_type": "display_data"
    }
   ],
   "source": [
    "Newfit_y_3 = func1(df_3[\"time\"], Newfit_A_3, Newfit_B_3, Newfit_C_3, Newfit_D_3, Newfit_E_3, Newfit_F_3, Newfit_G_3, Newfit_H_3)\n",
    "plt.plot(df_3[\"time\"], df_3[\"xdata\"], '.', label='data')\n",
    "plt.plot(df_3[\"time\"], Newfit_y_3, '-', label='fit')\n",
    "plt.legend()"
   ]
  },
  {
   "cell_type": "code",
   "execution_count": 25,
   "id": "2a6434c0",
   "metadata": {},
   "outputs": [
    {
     "data": {
      "text/html": [
       "<div>\n",
       "<style scoped>\n",
       "    .dataframe tbody tr th:only-of-type {\n",
       "        vertical-align: middle;\n",
       "    }\n",
       "\n",
       "    .dataframe tbody tr th {\n",
       "        vertical-align: top;\n",
       "    }\n",
       "\n",
       "    .dataframe thead th {\n",
       "        text-align: right;\n",
       "    }\n",
       "</style>\n",
       "<table border=\"1\" class=\"dataframe\">\n",
       "  <thead>\n",
       "    <tr style=\"text-align: right;\">\n",
       "      <th></th>\n",
       "      <th>time</th>\n",
       "    </tr>\n",
       "  </thead>\n",
       "  <tbody>\n",
       "    <tr>\n",
       "      <th>0</th>\n",
       "      <td>-0.000033</td>\n",
       "    </tr>\n",
       "    <tr>\n",
       "      <th>1</th>\n",
       "      <td>-0.000034</td>\n",
       "    </tr>\n",
       "    <tr>\n",
       "      <th>2</th>\n",
       "      <td>-0.000033</td>\n",
       "    </tr>\n",
       "    <tr>\n",
       "      <th>3</th>\n",
       "      <td>-0.000033</td>\n",
       "    </tr>\n",
       "    <tr>\n",
       "      <th>4</th>\n",
       "      <td>-0.000031</td>\n",
       "    </tr>\n",
       "    <tr>\n",
       "      <th>...</th>\n",
       "      <td>...</td>\n",
       "    </tr>\n",
       "    <tr>\n",
       "      <th>6995</th>\n",
       "      <td>-0.025259</td>\n",
       "    </tr>\n",
       "    <tr>\n",
       "      <th>6996</th>\n",
       "      <td>-0.025588</td>\n",
       "    </tr>\n",
       "    <tr>\n",
       "      <th>6997</th>\n",
       "      <td>-0.024578</td>\n",
       "    </tr>\n",
       "    <tr>\n",
       "      <th>6998</th>\n",
       "      <td>-0.025538</td>\n",
       "    </tr>\n",
       "    <tr>\n",
       "      <th>6999</th>\n",
       "      <td>-0.025164</td>\n",
       "    </tr>\n",
       "  </tbody>\n",
       "</table>\n",
       "<p>7000 rows × 1 columns</p>\n",
       "</div>"
      ],
      "text/plain": [
       "          time\n",
       "0    -0.000033\n",
       "1    -0.000034\n",
       "2    -0.000033\n",
       "3    -0.000033\n",
       "4    -0.000031\n",
       "...        ...\n",
       "6995 -0.025259\n",
       "6996 -0.025588\n",
       "6997 -0.024578\n",
       "6998 -0.025538\n",
       "6999 -0.025164\n",
       "\n",
       "[7000 rows x 1 columns]"
      ]
     },
     "execution_count": 25,
     "metadata": {},
     "output_type": "execute_result"
    }
   ],
   "source": [
    "ndf1=pd.DataFrame(Newfit_y_1)#,columns=[\"data\"])\n",
    "ndf2=pd.DataFrame(Newfit_y_2)#,columns=[\"data\"])\n",
    "ndf3=pd.DataFrame(Newfit_y_3)#,columns=[\"data\"])\n",
    "\n",
    "ndf=ndf1.append(ndf2,ignore_index=True)\n",
    "ndf=ndf.append(ndf3,ignore_index=True)\n",
    "ndf\n"
   ]
  },
  {
   "cell_type": "code",
   "execution_count": 26,
   "id": "f5be449c",
   "metadata": {},
   "outputs": [
    {
     "data": {
      "text/plain": [
       "<matplotlib.legend.Legend at 0x7f418bdd3fa0>"
      ]
     },
     "execution_count": 26,
     "metadata": {},
     "output_type": "execute_result"
    },
    {
     "data": {
      "image/png": "[encoded data removed]",
      "text/plain": [
       "<Figure size 432x288 with 1 Axes>"
      ]
     },
     "metadata": {
      "needs_background": "light"
     },
     "output_type": "display_data"
    }
   ],
   "source": [
    "plt.plot(df[\"time\"], df[\"xdata\"], '.', label='data')\n",
    "plt.plot(df[\"time\"], ndf, '-', label='fit')\n",
    "plt.legend()"
   ]
  },
  {
   "cell_type": "code",
   "execution_count": null,
   "id": "f9cc305a",
   "metadata": {},
   "outputs": [],
   "source": []
  }
 ],
 "metadata": {
  "kernelspec": {
   "display_name": "Python 3 (ipykernel)",
   "language": "python",
   "name": "python3"
  },
  "language_info": {
   "codemirror_mode": {
    "name": "ipython",
    "version": 3
   },
   "file_extension": ".py",
   "mimetype": "text/x-python",
   "name": "python",
   "nbconvert_exporter": "python",
   "pygments_lexer": "ipython3",
   "version": "3.8.10"
  }
 },
 "nbformat": 4,
 "nbformat_minor": 5
}
