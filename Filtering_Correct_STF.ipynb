{
 "cells": [
  {
   "cell_type": "code",
   "execution_count": 1,
   "id": "4e946e36",
   "metadata": {},
   "outputs": [],
   "source": [
    "import numpy as np\n",
    "import math\n",
    "import matplotlib.pyplot as plt\n",
    "import random"
   ]
  },
  {
   "cell_type": "code",
   "execution_count": 2,
   "id": "55e76964",
   "metadata": {},
   "outputs": [],
   "source": [
    "baseline=0.\n",
    "amp=5\n",
    "noise_amp=0.\n",
    "tau=1500\n",
    "length=7000\n",
    "rise_time=300\n",
    "flat_top=100"
   ]
  },
  {
   "cell_type": "code",
   "execution_count": 3,
   "id": "f71c746e",
   "metadata": {},
   "outputs": [],
   "source": [
    "x=np.arange(-3500,3500,1)"
   ]
  },
  {
   "cell_type": "code",
   "execution_count": 4,
   "id": "46a895fc",
   "metadata": {},
   "outputs": [],
   "source": [
    "def expo(amp, x, tau):\n",
    "    y=[0]*len(x)#x*0\n",
    "    for i in range (1, len(x)): \n",
    "        if (x[i] > 0):\n",
    "            y[i] = amp * np.exp(-x[i]/tau)\n",
    "        else:\n",
    "            y[i] = 0\n",
    "    return y"
   ]
  },
  {
   "cell_type": "code",
   "execution_count": 5,
   "id": "cdcbbfe3",
   "metadata": {},
   "outputs": [
    {
     "data": {
      "text/plain": [
       "array([-0.23425484, -0.24807218,  0.6319554 , ..., -0.84153097,\n",
       "       -0.94123208,  0.75659806])"
      ]
     },
     "execution_count": 5,
     "metadata": {},
     "output_type": "execute_result"
    }
   ],
   "source": [
    "N=[0.]*7000\n",
    "N=np.array(N)\n",
    "for i in range (0,7000):\n",
    "    N[i]=random.uniform(-1,1)\n",
    "N"
   ]
  },
  {
   "cell_type": "code",
   "execution_count": 6,
   "id": "84dee8d4",
   "metadata": {},
   "outputs": [
    {
     "data": {
      "text/plain": [
       "array([-0., -0.,  0., ..., -0., -0.,  0.])"
      ]
     },
     "execution_count": 6,
     "metadata": {},
     "output_type": "execute_result"
    }
   ],
   "source": [
    "N=N*noise_amp\n",
    "N"
   ]
  },
  {
   "cell_type": "code",
   "execution_count": 7,
   "id": "632922ee",
   "metadata": {},
   "outputs": [
    {
     "data": {
      "text/plain": [
       "[<matplotlib.lines.Line2D at 0x7fa887e4e280>]"
      ]
     },
     "execution_count": 7,
     "metadata": {},
     "output_type": "execute_result"
    },
    {
     "data": {
      "image/png": "[encoded data removed]",
      "text/plain": [
       "<Figure size 432x288 with 1 Axes>"
      ]
     },
     "metadata": {
      "needs_background": "light"
     },
     "output_type": "display_data"
    }
   ],
   "source": [
    "baseline_c=[baseline]*7000\n",
    "baseline_c=np.array(baseline_c)\n",
    "A = baseline_c+expo(amp, x, tau)\n",
    "A=np.array(A)\n",
    "plt.plot(A)"
   ]
  },
  {
   "cell_type": "code",
   "execution_count": 8,
   "id": "b406b273",
   "metadata": {},
   "outputs": [
    {
     "data": {
      "text/plain": [
       "[<matplotlib.lines.Line2D at 0x7fa885db2eb0>]"
      ]
     },
     "execution_count": 8,
     "metadata": {},
     "output_type": "execute_result"
    },
    {
     "data": {
      "image/png": "[encoded data removed]",
      "text/plain": [
       "<Figure size 432x288 with 1 Axes>"
      ]
     },
     "metadata": {
      "needs_background": "light"
     },
     "output_type": "display_data"
    }
   ],
   "source": [
    "T=A+N\n",
    "plt.plot(T)"
   ]
  },
  {
   "cell_type": "code",
   "execution_count": null,
   "id": "90fda157",
   "metadata": {},
   "outputs": [],
   "source": []
  },
  {
   "cell_type": "code",
   "execution_count": 9,
   "id": "3fa05e00",
   "metadata": {},
   "outputs": [],
   "source": [
    "input1=T\n",
    "trap_new = [0]*length\n",
    "trap_n=[0]*length\n",
    "wave_c=[0]*length\n",
    "wave=[0]*length\n",
    "trap_new=np.array(trap_new)\n",
    "for i in range(0, length):\n",
    "        #single trapezoidal filter for exponential decay\n",
    "        if i>=(4*rise_time +2*flat_top):\n",
    "            wave[i]=input1[i]-input1[i-rise_time]-input1[i-rise_time-flat_top]+input1[i-2*rise_time-flat_top]\n",
    "            wave_c[i] = wave_c[i-1]+wave[i]\n",
    "            trap_n[i] = trap_n[i-1]+wave_c[i]+tau*wave[i]\n",
    "\n",
    "for i in range(0, length):\n",
    "    trap_n[i] = trap_n[i]/(rise_time*tau)\n",
    "    #trap_o[i]=trap_o[i]/rise_time"
   ]
  },
  {
   "cell_type": "markdown",
   "id": "bdd83a40",
   "metadata": {},
   "source": [
    "## Test of how things changes if we change the order of the sub processes \n",
    "This is the order as in Chris's presentation"
   ]
  },
  {
   "cell_type": "code",
   "execution_count": 10,
   "id": "a4c4addd",
   "metadata": {},
   "outputs": [],
   "source": [
    "input1_r=T\n",
    "trap_n_r=[0]*length\n",
    "wave_c_r=[0]*length\n",
    "wave_r=[0]*length\n",
    "\n",
    "for i in range(0, length):\n",
    "        #single trapezoidal filter for exponential decay\n",
    "        if i>=(4*rise_time +2*flat_top):\n",
    "            trap_n_r[i] = input1_r[i]+trap_n_r[i-1]\n",
    "            wave_r[i]= input1_r[i]+(1/tau)*trap_n_r[i]\n",
    "            wave_c_r[i] = wave_c_r[i-1]+wave_r[i]\n",
    "            wave_r[i]=wave_c_r[i]-wave_c_r[i-rise_time]-wave_c_r[i-rise_time-flat_top]+wave_c_r[i-2*rise_time-flat_top]\n",
    "for i in range(0, length):\n",
    "    wave_r[i] = wave_r[i]/(rise_time)"
   ]
  },
  {
   "cell_type": "code",
   "execution_count": 11,
   "id": "76c9e3d0",
   "metadata": {},
   "outputs": [
    {
     "data": {
      "image/png": "[encoded data removed]",
      "text/plain": [
       "<Figure size 432x288 with 1 Axes>"
      ]
     },
     "metadata": {
      "needs_background": "light"
     },
     "output_type": "display_data"
    }
   ],
   "source": [
    "plt.plot(wave_r, color='r', label='DTF', zorder=2)\n",
    "##plt.plot(trap_o, color='g', label='DTF inverted', zorder=1)\n",
    "plt.plot(T, color='b', label='wave', zorder=0)\n",
    "plt.legend()\n",
    "plt.grid()\n",
    "plt.show()\n"
   ]
  },
  {
   "cell_type": "markdown",
   "id": "c169d6be",
   "metadata": {},
   "source": [
    "## Everything looks same as expected GREAT!!"
   ]
  },
  {
   "cell_type": "code",
   "execution_count": 12,
   "id": "8dae8289",
   "metadata": {},
   "outputs": [
    {
     "data": {
      "image/png": "[encoded data removed]",
      "text/plain": [
       "<Figure size 432x288 with 1 Axes>"
      ]
     },
     "metadata": {
      "needs_background": "light"
     },
     "output_type": "display_data"
    }
   ],
   "source": [
    "plt.plot(trap_n, color='r', label='DTF', zorder=2)\n",
    "##plt.plot(trap_o, color='g', label='DTF inverted', zorder=1)\n",
    "plt.plot(T, color='b', label='wave', zorder=0)\n",
    "plt.legend()\n",
    "plt.xlim(3000,5000)\n",
    "plt.grid()\n",
    "plt.show()\n"
   ]
  },
  {
   "cell_type": "code",
   "execution_count": null,
   "id": "b88ba6a8",
   "metadata": {},
   "outputs": [],
   "source": []
  },
  {
   "cell_type": "code",
   "execution_count": null,
   "id": "cc99b47b",
   "metadata": {},
   "outputs": [],
   "source": []
  }
 ],
 "metadata": {
  "kernelspec": {
   "display_name": "Python 3 (ipykernel)",
   "language": "python",
   "name": "python3"
  },
  "language_info": {
   "codemirror_mode": {
    "name": "ipython",
    "version": 3
   },
   "file_extension": ".py",
   "mimetype": "text/x-python",
   "name": "python",
   "nbconvert_exporter": "python",
   "pygments_lexer": "ipython3",
   "version": "3.8.10"
  }
 },
 "nbformat": 4,
 "nbformat_minor": 5
}
