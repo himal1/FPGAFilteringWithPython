{
 "cells": [
  {
   "cell_type": "markdown",
   "id": "12fffd03",
   "metadata": {},
   "source": [
    "## Recursive Piecewise Polynomial Filter with Sliding Least Square Technique   \n",
    "This program uses the recursive algorithm (could be directly implemented in FPGA)"
   ]
  },
  {
   "cell_type": "code",
   "execution_count": 1,
   "id": "b5bc9495",
   "metadata": {},
   "outputs": [],
   "source": [
    "import numpy as np\n",
    "import math\n",
    "import matplotlib.pyplot as plt\n",
    "import random"
   ]
  },
  {
   "cell_type": "markdown",
   "id": "902221a0",
   "metadata": {},
   "source": [
    "Initialize the variables:\n",
    " *** \n",
    "* constant offset is baseline\n",
    "* amp is signal amplitude\n",
    "* noise_amp is amplitude of electronic noise\n",
    "* tau is decay constant of the exponential signal\n",
    "* length is the length of the waveform\n",
    "* rise_time is the time given to DTF to rise\n",
    "* flat_top is the time given to DFT to remain flat at the top and at the bottom"
   ]
  },
  {
   "cell_type": "code",
   "execution_count": 2,
   "id": "66f03702",
   "metadata": {},
   "outputs": [],
   "source": [
    "baseline=0.\n",
    "amp=25\n",
    "noise_amp=0.\n",
    "tau=500\n",
    "length=7000\n",
    "rise_time=400\n",
    "flat_top=500"
   ]
  },
  {
   "cell_type": "markdown",
   "id": "5013a6a8",
   "metadata": {},
   "source": [
    "Lets define a exponential function"
   ]
  },
  {
   "cell_type": "code",
   "execution_count": 3,
   "id": "b071653a",
   "metadata": {},
   "outputs": [],
   "source": [
    "x=np.arange(-3500,3500,1)\n",
    "def expo(amp, x, tau):\n",
    "    y=[0]*len(x)#x*0\n",
    "    for i in range (1, len(x)): \n",
    "        if (x[i] > 0):\n",
    "            y[i] = amp * np.exp(-x[i]/tau)\n",
    "        else:\n",
    "            y[i] = 0\n",
    "    return y"
   ]
  },
  {
   "cell_type": "markdown",
   "id": "7e66849f",
   "metadata": {},
   "source": [
    "Lets make a numpy array for the noise and constant offset (named as baseline)"
   ]
  },
  {
   "cell_type": "code",
   "execution_count": 4,
   "id": "182a5b3c",
   "metadata": {},
   "outputs": [],
   "source": [
    "N=[0.]*7000\n",
    "N=np.array(N)\n",
    "for i in range (0,7000):\n",
    "    N[i]=random.uniform(-1,1)\n",
    "N=N*noise_amp\n",
    "#now baseline offset\n",
    "baseline_c=[baseline]*7000\n",
    "baseline_c=np.array(baseline_c)\n",
    "A = baseline_c+expo(amp, x, tau)\n",
    "A=np.array(A)\n",
    "#Hence the total signal\n",
    "T=A+N"
   ]
  },
  {
   "cell_type": "markdown",
   "id": "b521d8c4",
   "metadata": {},
   "source": [
    "Plot of input signal with constant offset and noise"
   ]
  },
  {
   "cell_type": "code",
   "execution_count": 5,
   "id": "ae4f4f6a",
   "metadata": {},
   "outputs": [
    {
     "data": {
      "text/plain": [
       "[<matplotlib.lines.Line2D at 0x7fd6c9687b50>]"
      ]
     },
     "execution_count": 5,
     "metadata": {},
     "output_type": "execute_result"
    },
    {
     "data": {
      "image/png": "[encoded data removed]",
      "text/plain": [
       "<Figure size 432x288 with 1 Axes>"
      ]
     },
     "metadata": {
      "needs_background": "light"
     },
     "output_type": "display_data"
    }
   ],
   "source": [
    "plt.plot(T)"
   ]
  },
  {
   "cell_type": "markdown",
   "id": "a43e4e26",
   "metadata": {},
   "source": [
    "Impulse response"
   ]
  },
  {
   "cell_type": "code",
   "execution_count": 6,
   "id": "82b758d2",
   "metadata": {},
   "outputs": [],
   "source": [
    "sig=T\n",
    "sig=np.array(sig)\n",
    "r_0=[0]*7000\n",
    "r_1=[0]*7000\n",
    "r_2=[0]*7000\n",
    "r_3=[0]*7000\n",
    "for i in range (3500, 3601):\n",
    "    if i>2:\n",
    "        r_0[i]=T[i]\n",
    "        r_1[i]=r_1[i-1]+T[i]\n",
    "        r_2[i]=r_2[i-1]+r_1[i]\n",
    "        r_3[i]=r_3[i-1]+r_2[i]"
   ]
  },
  {
   "cell_type": "code",
   "execution_count": null,
   "id": "cc1c03ce",
   "metadata": {},
   "outputs": [],
   "source": []
  },
  {
   "cell_type": "markdown",
   "id": "0e1d621d",
   "metadata": {},
   "source": [
    "## Lanbda for the fitters\n",
    "$$\\Lambda_1 =1$$\n",
    "$$\\Lambda_2 =\\frac{1}{2}\\times L$$\n",
    "$$\\Lambda_3 =\\frac{1}{6}\\times L \\times (L+1)$$\n",
    "$$\\Lambda_4 =\\frac{1}{24}\\times L \\times (L+1) \\times (L+2)$$\n",
    "$$\\Lambda_5 =\\frac{1}{120}\\times L \\times (L+1) \\times (L+2) \\times (L+3)$$\n",
    "and so on"
   ]
  },
  {
   "cell_type": "code",
   "execution_count": 7,
   "id": "65c59575",
   "metadata": {},
   "outputs": [],
   "source": [
    "v_n=T\n",
    "L=100\n",
    "delay=100\n",
    "v_n=np.array(v_n)\n",
    "r_0_L=[0]*7000\n",
    "r_1_L=[0]*7000\n",
    "r_2_L=[0]*7000\n",
    "r_3_L=[0]*7000\n",
    "r_t=[0]*7000\n",
    "D_0_L=[0]*7000\n",
    "D_1_L=[0]*7000\n",
    "D_2_L=[0]*7000\n",
    "D_3_L=[0]*7000\n",
    "D_4_L=[0]*7000\n",
    "D_5_L=[0]*7000\n",
    "D_6_L=[0]*7000\n",
    "D_7_L=[0]*7000\n",
    "\n",
    "lam1=1 #1\n",
    "lam2=0.5*L #1/2*L\n",
    "lam3=1/6*L*(L-1)\n",
    "lam4=1/24*L*(L-1)*(L-2)\n",
    "lam5=1/120*L*(L-1)*(L-2)*(L-3)\n",
    "lam6=1/720*L*(L-1)*(L-2)*(L-3)*(L-4)\n",
    "lam7=1/5040*L*(L-1)*(L-2)*(L-3)*(L-4)*(L-5)\n",
    "\n",
    "\n",
    "\n",
    "for i in range (1, 7000):\n",
    "    if i>100:\n",
    "        #1st one\n",
    "        D_0_L[i]=D_0_L[i-1]+v_n[i]-v_n[i-L]\n",
    "        D_1_L[i]=D_1_L[i-1]+D_0_L[i-1]-lam1*v_n[i-L]\n",
    "        D_2_L[i]=D_2_L[i-1]+D_1_L[i-1]-lam2*v_n[i-L]\n",
    "        D_3_L[i]=D_3_L[i-1]+D_2_L[i-1]-lam3*v_n[i-L]\n",
    "        D_4_L[i]=D_4_L[i-1]+D_3_L[i-1]-lam4*v_n[i-L]\n",
    "        D_5_L[i]=D_5_L[i-1]+D_4_L[i-1]-lam5*v_n[i-L]\n",
    "        D_6_L[i]=D_6_L[i-1]+D_5_L[i-1]-lam6*v_n[i-L]\n",
    "        D_7_L[i]=D_7_L[i-1]+D_6_L[i-1]-lam7*v_n[i-L]\n",
    "        \n",
    "        #r_0_L[i]=v_n[i] - v_n[i-100] + r_0_L[i-1]\n",
    "        #second one\n",
    "        #r_1_L[i]=r_0_L[i] - lam1 * v_n[i-delay] + r_1_L[i-1]\n",
    "        #third \n",
    "        #second one\n",
    "        #r_2_L[i]=r_1_L[i] - lam2 * v_n[i-delay] + r_2_L[i-1]\n",
    "        \n",
    "        \n",
    "        \n",
    "        #Final combination\n",
    "        #r_t[i]=r_t[i-1] + cp_0 * r_0_L[i] + cp_1 * r_1_L[i] + cp_2 * r_2_L[i]\n",
    "        \n",
    "        #r_2_L[i]=r_2_L[i-1]+r_1_L[i]\n",
    "        #r_3_L[i]=r_3_L[i-1]+r_2_L[i]"
   ]
  },
  {
   "cell_type": "code",
   "execution_count": 8,
   "id": "0dc07023",
   "metadata": {},
   "outputs": [],
   "source": [
    "#plt.plot(D_0_L, color='b')\n",
    "#plt.plot(D_5_L, color='r')\n",
    "#plt.plot(D_1_L, color='g')\n",
    "#plt.plot(r_t, color='k')\n",
    "#plt.xlim(3000,4000)"
   ]
  },
  {
   "cell_type": "markdown",
   "id": "11f264ae",
   "metadata": {},
   "source": [
    "## Find inverse of the C-Matrix"
   ]
  },
  {
   "cell_type": "code",
   "execution_count": 9,
   "id": "9f763505",
   "metadata": {},
   "outputs": [],
   "source": [
    "#C-matrix for the 8th coefficient is:\n",
    "rp=np.array([[1,0,0,0,0,0,0,0,],[0,1,1/2,1/3,1/4,1/5,1/6,1/7], [0,0,1/2,1/2,11/24,5/12,137/360,7/20], [0,0,0,1/6,1/4,7/24,5/16,203/630], [0,0,0,0,1/24,1/12,17/144,7/48], [0,0,0,0,0,1/120,1/48,5/144], [0,0,0,0,0,0,1/720,1/240],[0,0,0,0,0,0,0,1/5040] ])"
   ]
  },
  {
   "cell_type": "code",
   "execution_count": 10,
   "id": "3425a118",
   "metadata": {},
   "outputs": [
    {
     "data": {
      "text/plain": [
       "array([[1.00000000e+00, 0.00000000e+00, 0.00000000e+00, 0.00000000e+00,\n",
       "        0.00000000e+00, 0.00000000e+00, 0.00000000e+00, 0.00000000e+00],\n",
       "       [0.00000000e+00, 1.00000000e+00, 5.00000000e-01, 3.33333333e-01,\n",
       "        2.50000000e-01, 2.00000000e-01, 1.66666667e-01, 1.42857143e-01],\n",
       "       [0.00000000e+00, 0.00000000e+00, 5.00000000e-01, 5.00000000e-01,\n",
       "        4.58333333e-01, 4.16666667e-01, 3.80555556e-01, 3.50000000e-01],\n",
       "       [0.00000000e+00, 0.00000000e+00, 0.00000000e+00, 1.66666667e-01,\n",
       "        2.50000000e-01, 2.91666667e-01, 3.12500000e-01, 3.22222222e-01],\n",
       "       [0.00000000e+00, 0.00000000e+00, 0.00000000e+00, 0.00000000e+00,\n",
       "        4.16666667e-02, 8.33333333e-02, 1.18055556e-01, 1.45833333e-01],\n",
       "       [0.00000000e+00, 0.00000000e+00, 0.00000000e+00, 0.00000000e+00,\n",
       "        0.00000000e+00, 8.33333333e-03, 2.08333333e-02, 3.47222222e-02],\n",
       "       [0.00000000e+00, 0.00000000e+00, 0.00000000e+00, 0.00000000e+00,\n",
       "        0.00000000e+00, 0.00000000e+00, 1.38888889e-03, 4.16666667e-03],\n",
       "       [0.00000000e+00, 0.00000000e+00, 0.00000000e+00, 0.00000000e+00,\n",
       "        0.00000000e+00, 0.00000000e+00, 0.00000000e+00, 1.98412698e-04]])"
      ]
     },
     "execution_count": 10,
     "metadata": {},
     "output_type": "execute_result"
    }
   ],
   "source": [
    "rp"
   ]
  },
  {
   "cell_type": "code",
   "execution_count": 11,
   "id": "3bbf7fd9",
   "metadata": {},
   "outputs": [
    {
     "name": "stdout",
     "output_type": "stream",
     "text": [
      "[[ 1.000e+00  0.000e+00  0.000e+00  0.000e+00  0.000e+00  0.000e+00\n",
      "   0.000e+00  0.000e+00]\n",
      " [ 0.000e+00  1.000e+00 -1.000e+00  1.000e+00 -1.000e+00  1.000e+00\n",
      "  -1.000e+00  1.000e+00]\n",
      " [ 0.000e+00  0.000e+00  2.000e+00 -6.000e+00  1.400e+01 -3.000e+01\n",
      "   6.200e+01 -1.260e+02]\n",
      " [ 0.000e+00  0.000e+00  0.000e+00  6.000e+00 -3.600e+01  1.500e+02\n",
      "  -5.400e+02  1.806e+03]\n",
      " [ 0.000e+00  0.000e+00  0.000e+00  0.000e+00  2.400e+01 -2.400e+02\n",
      "   1.560e+03 -8.400e+03]\n",
      " [ 0.000e+00  0.000e+00  0.000e+00  0.000e+00  0.000e+00  1.200e+02\n",
      "  -1.800e+03  1.680e+04]\n",
      " [ 0.000e+00  0.000e+00  0.000e+00  0.000e+00  0.000e+00  0.000e+00\n",
      "   7.200e+02 -1.512e+04]\n",
      " [ 0.000e+00  0.000e+00  0.000e+00  0.000e+00  0.000e+00  0.000e+00\n",
      "   0.000e+00  5.040e+03]]\n"
     ]
    }
   ],
   "source": [
    "rp_inv=(np.linalg.inv(rp))\n",
    "print(rp_inv)"
   ]
  },
  {
   "cell_type": "code",
   "execution_count": 12,
   "id": "00ad752f",
   "metadata": {},
   "outputs": [
    {
     "name": "stdout",
     "output_type": "stream",
     "text": [
      "[-8.66425379e-26 -9.34339241e-26  2.95781569e-20  2.82760937e-16\n",
      "  9.91665677e-13  1.54713368e-09  1.02024814e-06  2.06131253e-04]\n",
      "[-5.39339941e-05 -1.99590618e-06  3.24927394e-03  4.68269763e-05\n",
      " -7.65169104e-02 -2.55866521e-04  1.21646581e+00  2.50018759e+00]\n",
      "[-8.96251168e-23  1.13400266e-22 -6.31003946e-17  7.23626478e-13\n",
      " -3.30113300e-09  7.64067960e-06 -9.28011743e-03  4.94404275e+00]\n"
     ]
    }
   ],
   "source": [
    "#from fit program\n",
    "baseline_c=np.array([-8.664253789567694e-26, -9.343392405081817e-26, 2.9578156915996253e-20, 2.8276093733672987e-16, 9.916656769765617e-13, 1.5471336815513415e-09, 1.0202481412546802e-06, 0.00020613125325316412])\n",
    "rising_c=np.array([-5.3933994143884334e-05, -1.9959061812180323e-06, 0.0032492739362401934, 4.6826976288549815e-05, -0.07651691043461728, -0.0002558665206315869, 1.216465814414714, 2.5001875870645955])\n",
    "\n",
    "decay_c=np.array([-8.962511684869458e-23, 1.1340026558787559e-22, -6.310039457017033e-17, 7.236264783938056e-13, -3.3011330024939866e-09, 7.6406796035518e-06, -0.009280117429225115, 4.944042752009567])\n",
    "\n",
    "print(baseline_c)\n",
    "print(rising_c)\n",
    "print(decay_c)"
   ]
  },
  {
   "cell_type": "code",
   "execution_count": 13,
   "id": "bd16353b",
   "metadata": {},
   "outputs": [
    {
     "name": "stdout",
     "output_type": "stream",
     "text": [
      "[-8.66425379e-26  2.05112551e-04 -2.59093289e-02  3.71722341e-01\n",
      " -1.72991131e+00  3.46116879e+00 -3.11596997e+00  1.03890152e+00]\n",
      "[-5.39339941e-05  1.35677837e+00 -2.40660099e+02  3.86116375e+03\n",
      " -1.91056641e+04  3.98134823e+04 -3.69269809e+04  1.26009454e+04]\n",
      "[-8.96251168e-23  4.95333051e+00 -6.23524983e+02  8.93395362e+03\n",
      " -4.15444379e+04  8.30766234e+04 -7.47606081e+04  2.49179755e+04]\n"
     ]
    }
   ],
   "source": [
    "baseline_cp=np.matmul(rp_inv,baseline_c)\n",
    "rising_cp=np.matmul(rp_inv,rising_c)\n",
    "decay_cp=np.matmul(rp_inv,decay_c)\n",
    "print(baseline_cp)\n",
    "print(rising_cp)\n",
    "print(decay_cp)"
   ]
  },
  {
   "cell_type": "code",
   "execution_count": 14,
   "id": "a2bab8fc",
   "metadata": {},
   "outputs": [],
   "source": [
    "D_baseline=[0]*7000\n",
    "for i in range (1, 7000):\n",
    "    if i>100:\n",
    "        D_baseline[i]=D_baseline[i-1] + baseline_cp[0] * D_0_L[i] + baseline_cp[1] * D_1_L[i] + baseline_cp[2] * D_2_L[i]+baseline_cp[3] * D_3_L[i] + baseline_cp[4] * D_4_L[i] + baseline_cp[5] * D_5_L[i]+baseline_cp[6] * D_6_L[i] + baseline_cp[7] * D_7_L[i]"
   ]
  },
  {
   "cell_type": "code",
   "execution_count": 15,
   "id": "8fd287bb",
   "metadata": {},
   "outputs": [
    {
     "data": {
      "text/plain": [
       "[<matplotlib.lines.Line2D at 0x7fd6c7313d90>]"
      ]
     },
     "execution_count": 15,
     "metadata": {},
     "output_type": "execute_result"
    },
    {
     "data": {
      "image/png": "[encoded data removed]",
      "text/plain": [
       "<Figure size 432x288 with 1 Axes>"
      ]
     },
     "metadata": {
      "needs_background": "light"
     },
     "output_type": "display_data"
    }
   ],
   "source": [
    "plt.plot(D_baseline)\n",
    "#plt.xlim(0,4000)\n",
    "#plt.relim()\n",
    "#plt.plot(D_7_L, color='r')\n",
    "#D_baseline[999]"
   ]
  },
  {
   "cell_type": "code",
   "execution_count": 16,
   "id": "cdf224ea",
   "metadata": {},
   "outputs": [
    {
     "data": {
      "text/plain": [
       "0.0"
      ]
     },
     "execution_count": 16,
     "metadata": {},
     "output_type": "execute_result"
    }
   ],
   "source": [
    "D_baseline[3500]"
   ]
  },
  {
   "cell_type": "code",
   "execution_count": 17,
   "id": "d79fcb6a",
   "metadata": {},
   "outputs": [],
   "source": [
    "D_rising=[0]*7000\n",
    "for i in range (1, 7000):\n",
    "    if i>100:\n",
    "        D_rising[i]=D_rising[i-1] + rising_cp[0] * D_0_L[i] +rising_cp[1] * D_1_L[i] +rising_cp[2] * D_2_L[i]+rising_cp[3] * D_3_L[i] + rising_cp[4] * D_4_L[i] + rising_cp[5] * D_5_L[i]+rising_cp[6] * D_6_L[i] + rising_cp[7] * D_7_L[i]"
   ]
  },
  {
   "cell_type": "code",
   "execution_count": 18,
   "id": "e7eeec3d",
   "metadata": {},
   "outputs": [
    {
     "data": {
      "text/plain": [
       "[<matplotlib.lines.Line2D at 0x7fd6c724c520>]"
      ]
     },
     "execution_count": 18,
     "metadata": {},
     "output_type": "execute_result"
    },
    {
     "data": {
      "image/png": "[encoded data removed]",
      "text/plain": [
       "<Figure size 432x288 with 1 Axes>"
      ]
     },
     "metadata": {
      "needs_background": "light"
     },
     "output_type": "display_data"
    }
   ],
   "source": [
    "plt.plot(D_rising)"
   ]
  },
  {
   "cell_type": "code",
   "execution_count": 19,
   "id": "8c3fa4a8",
   "metadata": {},
   "outputs": [],
   "source": [
    "D_decay=[0]*7000\n",
    "for i in range (1, 7000):\n",
    "    if i>100:\n",
    "        D_decay[i]=D_decay[i-1] + decay_cp[0] * D_0_L[i] +decay_cp[1] * D_1_L[i] +decay_cp[2] * D_2_L[i]+decay_cp[3] * D_3_L[i] + decay_cp[4] * D_4_L[i] + decay_cp[5] * D_5_L[i]+decay_cp[6] * D_6_L[i] + decay_cp[7] * D_7_L[i]"
   ]
  },
  {
   "cell_type": "code",
   "execution_count": 20,
   "id": "ff3939db",
   "metadata": {},
   "outputs": [
    {
     "data": {
      "text/plain": [
       "[<matplotlib.lines.Line2D at 0x7fd6c71d0bb0>]"
      ]
     },
     "execution_count": 20,
     "metadata": {},
     "output_type": "execute_result"
    },
    {
     "data": {
      "image/png": "[encoded data removed]",
      "text/plain": [
       "<Figure size 432x288 with 1 Axes>"
      ]
     },
     "metadata": {
      "needs_background": "light"
     },
     "output_type": "display_data"
    }
   ],
   "source": [
    "plt.plot(D_decay)"
   ]
  },
  {
   "cell_type": "code",
   "execution_count": null,
   "id": "9c8dbc13",
   "metadata": {},
   "outputs": [],
   "source": []
  }
 ],
 "metadata": {
  "kernelspec": {
   "display_name": "Python 3 (ipykernel)",
   "language": "python",
   "name": "python3"
  },
  "language_info": {
   "codemirror_mode": {
    "name": "ipython",
    "version": 3
   },
   "file_extension": ".py",
   "mimetype": "text/x-python",
   "name": "python",
   "nbconvert_exporter": "python",
   "pygments_lexer": "ipython3",
   "version": "3.8.10"
  }
 },
 "nbformat": 4,
 "nbformat_minor": 5
}
