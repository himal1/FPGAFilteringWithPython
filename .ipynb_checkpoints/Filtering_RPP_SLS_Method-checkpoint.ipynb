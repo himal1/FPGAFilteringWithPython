{
 "cells": [
  {
   "cell_type": "markdown",
   "id": "c1facb32",
   "metadata": {},
   "source": [
    "## Recursive Piecewise Polynomial Filter with Sliding Least Square Technique   \n",
    "This program uses the recursive algorithm (could be directly implemented in FPGA)"
   ]
  },
  {
   "cell_type": "code",
   "execution_count": 1,
   "id": "5e3ec4e1",
   "metadata": {},
   "outputs": [],
   "source": [
    "import numpy as np\n",
    "import math\n",
    "import matplotlib.pyplot as plt\n",
    "import random"
   ]
  },
  {
   "cell_type": "markdown",
   "id": "5fa09d55",
   "metadata": {},
   "source": [
    "Initialize the variables:\n",
    " *** \n",
    "* constant offset is baseline\n",
    "* amp is signal amplitude\n",
    "* noise_amp is amplitude of electronic noise\n",
    "* tau is decay constant of the exponential signal\n",
    "* length is the length of the waveform\n",
    "* rise_time is the time given to DTF to rise\n",
    "* flat_top is the time given to DFT to remain flat at the top and at the bottom"
   ]
  },
  {
   "cell_type": "code",
   "execution_count": 2,
   "id": "03cb8d52",
   "metadata": {},
   "outputs": [],
   "source": [
    "baseline=0.\n",
    "amp=25\n",
    "noise_amp=0.\n",
    "tau=500\n",
    "length=7000\n",
    "rise_time=400\n",
    "flat_top=500"
   ]
  },
  {
   "cell_type": "markdown",
   "id": "5da870c2",
   "metadata": {},
   "source": [
    "Lets define a exponential function"
   ]
  },
  {
   "cell_type": "code",
   "execution_count": 3,
   "id": "0d67b5c7",
   "metadata": {},
   "outputs": [],
   "source": [
    "x=np.arange(-3500,3500,1)\n",
    "def expo(amp, x, tau):\n",
    "    y=[0]*len(x)#x*0\n",
    "    for i in range (1, len(x)): \n",
    "        if (x[i] > 0):\n",
    "            y[i] = amp * np.exp(-x[i]/tau)\n",
    "        else:\n",
    "            y[i] = 0\n",
    "    return y"
   ]
  },
  {
   "cell_type": "markdown",
   "id": "396ace4e",
   "metadata": {},
   "source": [
    "Lets make a numpy array for the noise and constant offset (named as baseline)"
   ]
  },
  {
   "cell_type": "code",
   "execution_count": 4,
   "id": "cdaf73e6",
   "metadata": {},
   "outputs": [],
   "source": [
    "N=[0.]*7000\n",
    "N=np.array(N)\n",
    "for i in range (0,7000):\n",
    "    N[i]=random.uniform(-1,1)\n",
    "N=N*noise_amp\n",
    "#now baseline offset\n",
    "baseline_c=[baseline]*7000\n",
    "baseline_c=np.array(baseline_c)\n",
    "A = baseline_c+expo(amp, x, tau)\n",
    "A=np.array(A)\n",
    "#Hence the total signal\n",
    "T=A+N"
   ]
  },
  {
   "cell_type": "markdown",
   "id": "0db0c334",
   "metadata": {},
   "source": [
    "Plot of input signal with constant offset and noise"
   ]
  },
  {
   "cell_type": "code",
   "execution_count": 5,
   "id": "e9569bb1",
   "metadata": {},
   "outputs": [
    {
     "data": {
      "text/plain": [
       "[<matplotlib.lines.Line2D at 0x7f56cf7f8b20>]"
      ]
     },
     "execution_count": 5,
     "metadata": {},
     "output_type": "execute_result"
    },
    {
     "data": {
      "image/png": "[encoded data removed]",
      "text/plain": [
       "<Figure size 432x288 with 1 Axes>"
      ]
     },
     "metadata": {
      "needs_background": "light"
     },
     "output_type": "display_data"
    }
   ],
   "source": [
    "plt.plot(T)"
   ]
  },
  {
   "cell_type": "markdown",
   "id": "4cdb106b",
   "metadata": {},
   "source": [
    "Impulse response"
   ]
  },
  {
   "cell_type": "code",
   "execution_count": 6,
   "id": "d216080f",
   "metadata": {},
   "outputs": [],
   "source": [
    "sig=T\n",
    "sig=np.array(sig)\n",
    "r_0=[0]*7000\n",
    "r_1=[0]*7000\n",
    "r_2=[0]*7000\n",
    "r_3=[0]*7000\n",
    "for i in range (3500, 3601):\n",
    "    if i>2:\n",
    "        r_0[i]=T[i]\n",
    "        r_1[i]=r_1[i-1]+T[i]\n",
    "        r_2[i]=r_2[i-1]+r_1[i]\n",
    "        r_3[i]=r_3[i-1]+r_2[i]"
   ]
  },
  {
   "cell_type": "code",
   "execution_count": 7,
   "id": "0021ba1b",
   "metadata": {},
   "outputs": [
    {
     "data": {
      "text/plain": [
       "(3500.0, 3600.0)"
      ]
     },
     "execution_count": 7,
     "metadata": {},
     "output_type": "execute_result"
    },
    {
     "data": {
      "image/png": "[encoded data removed]",
      "text/plain": [
       "<Figure size 432x288 with 1 Axes>"
      ]
     },
     "metadata": {
      "needs_background": "light"
     },
     "output_type": "display_data"
    }
   ],
   "source": [
    "plt.plot(r_0, color='b')\n",
    "plt.plot(r_1, color='r')\n",
    "plt.plot(r_2, color='g')\n",
    "plt.plot(r_3, color='k')\n",
    "#plt.plot(T)\n",
    "plt.xlim(3500,3600)"
   ]
  },
  {
   "cell_type": "code",
   "execution_count": 8,
   "id": "771fd9ce",
   "metadata": {},
   "outputs": [],
   "source": [
    "v_n=T\n",
    "delay=100\n",
    "v_n=np.array(v_n)\n",
    "r_0_L=[0]*7000\n",
    "r_1_L=[0]*7000\n",
    "r_2_L=[0]*7000\n",
    "r_3_L=[0]*7000\n",
    "r_t=[0]*7000\n",
    "\n",
    "#how to find cp's and lam coefficients????\n",
    "cp_0=1e-10\n",
    "cp_1=1e-10\n",
    "cp_2=1e-10\n",
    "\n",
    "lam1=1e-10\n",
    "lam2=1e-10\n",
    "\n",
    "for i in range (1, 7000):\n",
    "    if i>100:\n",
    "        #1st one\n",
    "        r_0_L[i]=v_n[i] - v_n[i-delay] + r_0_L[i-1]\n",
    "        #second one\n",
    "        r_1_L[i]=r_0_L[i] - lam1 * v_n[i-delay] + r_1_L[i-1]\n",
    "        #third \n",
    "        #second one\n",
    "        r_2_L[i]=r_1_L[i] - lam2 * v_n[i-delay] + r_2_L[i-1]\n",
    "        \n",
    "        \n",
    "        \n",
    "        #Final combination\n",
    "        r_t[i]=r_t[i-1] + cp_0 * r_0_L[i] + cp_1 * r_1_L[i] + cp_2 * r_2_L[i]\n",
    "        \n",
    "        #r_2_L[i]=r_2_L[i-1]+r_1_L[i]\n",
    "        #r_3_L[i]=r_3_L[i-1]+r_2_L[i]"
   ]
  },
  {
   "cell_type": "code",
   "execution_count": 9,
   "id": "d6be98e4",
   "metadata": {},
   "outputs": [
    {
     "data": {
      "text/plain": [
       "[<matplotlib.lines.Line2D at 0x7f56cd2fd580>]"
      ]
     },
     "execution_count": 9,
     "metadata": {},
     "output_type": "execute_result"
    },
    {
     "data": {
      "image/png": "[encoded data removed]",
      "text/plain": [
       "<Figure size 432x288 with 1 Axes>"
      ]
     },
     "metadata": {
      "needs_background": "light"
     },
     "output_type": "display_data"
    }
   ],
   "source": [
    "plt.plot(r_0_L, color='b')\n",
    "plt.plot(r_1_L, color='r')\n",
    "plt.plot(r_2_L, color='g')\n",
    "plt.plot(r_t, color='k')\n",
    "#plt.xlim(3000,4000)"
   ]
  },
  {
   "cell_type": "code",
   "execution_count": null,
   "id": "40c78fae",
   "metadata": {},
   "outputs": [],
   "source": []
  }
 ],
 "metadata": {
  "kernelspec": {
   "display_name": "Python 3 (ipykernel)",
   "language": "python",
   "name": "python3"
  },
  "language_info": {
   "codemirror_mode": {
    "name": "ipython",
    "version": 3
   },
   "file_extension": ".py",
   "mimetype": "text/x-python",
   "name": "python",
   "nbconvert_exporter": "python",
   "pygments_lexer": "ipython3",
   "version": "3.8.10"
  }
 },
 "nbformat": 4,
 "nbformat_minor": 5
}
