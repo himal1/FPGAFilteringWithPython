{
 "cells": [
  {
   "cell_type": "code",
   "execution_count": 1,
   "id": "c47fd7f2",
   "metadata": {},
   "outputs": [],
   "source": [
    "import numpy as np\n",
    "import math\n",
    "import matplotlib.pyplot as plt\n",
    "from scipy import signal\n",
    "sig = np.repeat([0.,1], 3500)\n",
    "slope = np.repeat([0.],7000.)\n",
    "\n",
    "win = signal.windows.hann(1000)\n",
    "filtered = signal.convolve(sig, win, mode='same') / sum(win)"
   ]
  },
  {
   "cell_type": "code",
   "execution_count": 2,
   "id": "9d737f05",
   "metadata": {},
   "outputs": [],
   "source": [
    "#def trapFilter_new(input1, rise_time, flat_top, length, tau):\n",
    "length=7000\n",
    "rise_time=20\n",
    "flat_top=200\n",
    "input1=sig\n",
    "\n",
    "#initialize the arrays\n",
    "d_k = [0]*length\n",
    "p_n = [0]*length\n",
    "t_n = [0]*length\n",
    "trap_n = [0]*length\n",
    "s_p = [0]*length\n",
    "s_pf = [0]*length\n",
    "p_nf = [0] *length\n",
    "\n",
    "for i in range(0, length):\n",
    "       \n",
    "        #triangular filter\n",
    "        if i>=(2*rise_time):\n",
    "            t_n[i]=t_n[i-1]+ input1[i]-2*input1[i-rise_time]+input1[i-2*rise_time]\n",
    "        \n",
    "        #for trapezoidal\n",
    "        if i>=i>=(2*rise_time +flat_top):\n",
    "            trap_n[i] =trap_n[i-1] + input1[i]-input1[i-rise_time]-input1[i-rise_time-flat_top] + input1[i-2*rise_time-flat_top] \n",
    "        \n",
    "        #for polynomial\n",
    "        if i>=(2*rise_time + 1):\n",
    "            p_n[i]=p_n[i-1]+input1[i]-input1[i-2*rise_time-1]\n",
    "            s_p[i]=s_p[i-1]+p_n[i]-input1[i-rise_time]*(2*rise_time+1)\n",
    "        #for poly trapezoid    \n",
    "        if i>=(2*rise_time + flat_top):\n",
    "            p_nf[i]=p_nf[i-1]+input1[i]-input1[i-rise_time]+input1[i-rise_time-flat_top]-input1[i-2*rise_time-flat_top]\n",
    "            s_pf[i]=s_pf[i-1]+p_nf[i]-(input1[i-rise_time]+input1[i-rise_time-flat_top])*(rise_time) - input1[i-rise_time-flat_top] + input1[i-2*rise_time-flat_top]\n",
    "    "
   ]
  },
  {
   "cell_type": "code",
   "execution_count": 3,
   "id": "1aa940bc",
   "metadata": {},
   "outputs": [
    {
     "data": {
      "text/plain": [
       "[<matplotlib.lines.Line2D at 0x7ff66bd15730>]"
      ]
     },
     "execution_count": 3,
     "metadata": {},
     "output_type": "execute_result"
    },
    {
     "data": {
      "image/png": "[encoded data removed]",
      "text/plain": [
       "<Figure size 432x288 with 1 Axes>"
      ]
     },
     "metadata": {
      "needs_background": "light"
     },
     "output_type": "display_data"
    }
   ],
   "source": [
    "plt.plot(sig, color='b', label='wave', zorder=0)"
   ]
  },
  {
   "cell_type": "code",
   "execution_count": 4,
   "id": "725fdd0b",
   "metadata": {},
   "outputs": [
    {
     "data": {
      "image/png": "[encoded data removed]",
      "text/plain": [
       "<Figure size 432x288 with 1 Axes>"
      ]
     },
     "metadata": {
      "needs_background": "light"
     },
     "output_type": "display_data"
    }
   ],
   "source": [
    "newfit1=t_n\n",
    "newfit2=trap_n\n",
    "newfit3=s_p\n",
    "newfit4=s_pf\n",
    "\n",
    "plt.plot(newfit1, color='r', label='triangular filter', zorder=2)\n",
    "plt.plot(newfit2, color='g', label='triangular flat filter', zorder=1)\n",
    "plt.plot(newfit3, color='y', label='decay filter', zorder=3)\n",
    "plt.plot(newfit4, color='c', label='decay flat filter', zorder=4)\n",
    "\n",
    "plt.plot(sig, color='b', label='wave', zorder=0)\n",
    "plt.legend()\n",
    "plt.xlim(3400,4000)\n",
    "#plt.ylim(4.9,5.1)\n",
    "plt.grid()\n",
    "plt.show()\n"
   ]
  },
  {
   "cell_type": "code",
   "execution_count": null,
   "id": "428d6431",
   "metadata": {},
   "outputs": [],
   "source": []
  },
  {
   "cell_type": "code",
   "execution_count": null,
   "id": "cc042ca9",
   "metadata": {},
   "outputs": [],
   "source": []
  }
 ],
 "metadata": {
  "kernelspec": {
   "display_name": "Python 3 (ipykernel)",
   "language": "python",
   "name": "python3"
  },
  "language_info": {
   "codemirror_mode": {
    "name": "ipython",
    "version": 3
   },
   "file_extension": ".py",
   "mimetype": "text/x-python",
   "name": "python",
   "nbconvert_exporter": "python",
   "pygments_lexer": "ipython3",
   "version": "3.8.10"
  }
 },
 "nbformat": 4,
 "nbformat_minor": 5
}
